{
 "cells": [
  {
   "cell_type": "markdown",
   "id": "8f418ea0",
   "metadata": {},
   "source": [
    "## Packages and params"
   ]
  },
  {
   "cell_type": "code",
   "execution_count": null,
   "id": "80ccf11a",
   "metadata": {},
   "outputs": [],
   "source": [
    "#Packages\n",
    "from _notebook_pkgs import *"
   ]
  },
  {
   "cell_type": "markdown",
   "id": "b18135e4",
   "metadata": {},
   "source": [
    "# Stage classification"
   ]
  },
  {
   "cell_type": "code",
   "execution_count": null,
   "id": "8c42aea9",
   "metadata": {},
   "outputs": [],
   "source": [
    "# paper fig\n",
    "for ext in ['eps', 'png']:\n",
    "    analysis.stage_transfer_learning_multi_plot(ext=ext)"
   ]
  },
  {
   "cell_type": "code",
   "execution_count": null,
   "id": "ef27ae23",
   "metadata": {},
   "outputs": [],
   "source": [
    "# paper fig\n",
    "for ext in ['eps', 'png']:\n",
    "    analysis.stage_transfer_learning_summary_plot_new(ext=ext, stage_remap='not-in-train')"
   ]
  },
  {
   "cell_type": "code",
   "execution_count": null,
   "id": "e6da3eb7",
   "metadata": {},
   "outputs": [],
   "source": [
    "clf = 'inception'\n",
    "acc_summary = analysis.stage_clf_performance_summary(weather=None, common_origin_distance=True)\n",
    "acc_summary_env = analysis.stage_clf_performance_summary(weather='all', common_origin_distance=False)\n",
    "acc_common_origin = acc_summary[clf] - acc_summary.base\n",
    "acc_env = acc_summary_env[clf] - acc_summary_env.base\n",
    "acc_common_origin = acc_common_origin.loc[params.stage_species_v2_multilabel]\n",
    "acc_env = acc_env.loc[params.stage_species_v2_multilabel]"
   ]
  },
  {
   "cell_type": "code",
   "execution_count": null,
   "id": "dcce1287",
   "metadata": {},
   "outputs": [],
   "source": [
    "df = analysis.stage_transfer_learning_matrix(stage_remap='not-in-train', model='inception', pad_day_rate=None, weather=None, common_origin_distance=True, cluster=False)"
   ]
  },
  {
   "cell_type": "code",
   "execution_count": null,
   "id": "bd7ee934",
   "metadata": {},
   "outputs": [],
   "source": [
    "params.stage_species_v2_multilabel"
   ]
  },
  {
   "cell_type": "code",
   "execution_count": null,
   "id": "43bed8c1",
   "metadata": {},
   "outputs": [],
   "source": [
    "# paper fig\n",
    "for ext in ['eps', 'png']:\n",
    "    analysis.stage_transfer_learning_summary_plot_new(ext=ext)"
   ]
  },
  {
   "cell_type": "code",
   "execution_count": null,
   "id": "81cd2972",
   "metadata": {},
   "outputs": [],
   "source": [
    "# paper fig\n",
    "for ext in ['eps', 'png']:\n",
    "    analysis.stage_transfer_learning_bidirectional_plot(order='mean-transfer', common_origin_distance=True, weather=None, pad_day_rate=None, delete_features=[], cluster=True, ext=ext)"
   ]
  },
  {
   "cell_type": "code",
   "execution_count": null,
   "id": "8bb27efc",
   "metadata": {},
   "outputs": [],
   "source": [
    "for mode in ['accuracy', 'loss']:\n",
    "    for pad_day_rate in [None, 6]:\n",
    "        analysis.stage_transfer_learning_summary_plot(mode=mode, pad_day_rate=pad_day_rate)\n",
    "    analysis.stage_transfer_learning_summary_plot(mode=mode, pad_day_rate=6, delete_features=['cos t', 'sin t'])"
   ]
  },
  {
   "cell_type": "code",
   "execution_count": null,
   "id": "5f481186",
   "metadata": {},
   "outputs": [],
   "source": [
    "acc_summary = analysis.stage_clf_performance_summary(weather=None, common_origin_distance=True)\n",
    "acc_summary_env = analysis.stage_clf_performance_summary(weather='all', common_origin_distance=False)"
   ]
  },
  {
   "cell_type": "code",
   "execution_count": null,
   "id": "4c05339d",
   "metadata": {},
   "outputs": [],
   "source": [
    "analysis.stage_clf_performance_summary_plot()"
   ]
  },
  {
   "cell_type": "code",
   "execution_count": null,
   "id": "f07f4f89",
   "metadata": {},
   "outputs": [],
   "source": [
    "multi, binary, one_class = preprocessing.compute_num_stages()"
   ]
  },
  {
   "cell_type": "code",
   "execution_count": null,
   "id": "066ec729",
   "metadata": {},
   "outputs": [],
   "source": [
    "weather = None\n",
    "pad_day_rate = None\n",
    "common_origin_distance = True\n",
    "delete_features = []\n",
    "fine_tuning_transfer_acc = 'all' #0.1\n",
    "acc, loss = analysis.stage_transfer_learning_summary(weather=weather, delete_features=delete_features, fine_tuning_transfer_acc=fine_tuning_transfer_acc, common_origin_distance=common_origin_distance, pad_day_rate=pad_day_rate, max_base_acc=1)"
   ]
  },
  {
   "cell_type": "code",
   "execution_count": null,
   "id": "a24592b3",
   "metadata": {},
   "outputs": [],
   "source": [
    "history, df = analysis.stage_clf_performance_kfold()"
   ]
  },
  {
   "cell_type": "code",
   "execution_count": null,
   "id": "8598232e",
   "metadata": {},
   "outputs": [],
   "source": [
    "np.mean(history['acc-lowest-loss'])"
   ]
  },
  {
   "cell_type": "code",
   "execution_count": null,
   "id": "119619af",
   "metadata": {},
   "outputs": [],
   "source": [
    "history"
   ]
  },
  {
   "cell_type": "code",
   "execution_count": null,
   "id": "0a6f7608",
   "metadata": {},
   "outputs": [],
   "source": [
    "(df.Stage == df.Predicted).mean()"
   ]
  },
  {
   "cell_type": "code",
   "execution_count": null,
   "id": "a930e523",
   "metadata": {},
   "outputs": [],
   "source": [
    "results, df = analysis.fine_tuning_stage_learning(species_train='Baraus petrel', species_transfer_acc=0.1)"
   ]
  },
  {
   "cell_type": "code",
   "execution_count": null,
   "id": "736d8568",
   "metadata": {},
   "outputs": [],
   "source": [
    "results['fine-tuned-acc']"
   ]
  },
  {
   "cell_type": "code",
   "execution_count": null,
   "id": "0ce8f383",
   "metadata": {},
   "outputs": [],
   "source": [
    "(df.Stage == df.Predicted)"
   ]
  },
  {
   "cell_type": "code",
   "execution_count": null,
   "id": "e7b2490c",
   "metadata": {},
   "outputs": [],
   "source": [
    "np.mean(results['fine-tuned-acc']), (df.Stage == df.Predicted).mean()"
   ]
  },
  {
   "cell_type": "code",
   "execution_count": null,
   "id": "2eceaceb",
   "metadata": {},
   "outputs": [],
   "source": [
    "results.keys()"
   ]
  },
  {
   "cell_type": "code",
   "execution_count": null,
   "id": "c7d98065",
   "metadata": {},
   "outputs": [],
   "source": [
    "df = pd.concat(results['fine-tuned-clf-report'], axis=0)\n",
    "(df.Stage == df.Predicted).mean()"
   ]
  },
  {
   "cell_type": "code",
   "execution_count": null,
   "id": "42d6d3a2",
   "metadata": {},
   "outputs": [],
   "source": [
    "df.Predicted"
   ]
  },
  {
   "cell_type": "code",
   "execution_count": null,
   "id": "ef11a96d",
   "metadata": {},
   "outputs": [],
   "source": [
    "func_path = 'analysis/classification_report'\n",
    "# func_path = 'analysis/error_analysis_shap'\n",
    "# func_path = 'analysis/stage_clf_performance'\n",
    "# func_path = 'preprocessing/equally_spaced_trajectories_avg_v2'\n",
    "# func_path = 'analysis/stage_clf_report'\n",
    "# func_path = 'analysis/stage_clf_performance_kfold'\n",
    "# func_path = 'analysis/fine_tuning_stage_learning'\n",
    "func_path = 'analysis/stage_clf_report_binary'\n",
    "func_path = 'analysis/stage_clf_report_multi'\n",
    "\n",
    "pdir1 = f\"data/{func_path}/\"\n",
    "pdir2 = f\"nuredduna_programmes/data/{func_path}/\"\n",
    "exclude_hidden = lambda s: {f for f in s if not f.startswith('.')}\n",
    "files1 = exclude_hidden(set(os.listdir(pdir1)))\n",
    "files2 = exclude_hidden(set(os.listdir(pdir2)))\n",
    "files_not_in_dir1 = files2 - files1\n",
    "files_not_in_dir2 = files1 - files2\n",
    "\n",
    "len(files_not_in_dir2), len(files_not_in_dir1)"
   ]
  },
  {
   "cell_type": "code",
   "execution_count": null,
   "id": "5847df42",
   "metadata": {},
   "outputs": [],
   "source": [
    "for file in tqdm(files_not_in_dir1): # files2:\n",
    "    orig = os.path.join(pdir2, file)\n",
    "    dest = os.path.join(pdir1, file)\n",
    "    shutil.copy(orig, dest)"
   ]
  },
  {
   "cell_type": "code",
   "execution_count": null,
   "id": "0e75445b",
   "metadata": {},
   "outputs": [],
   "source": [
    "for file in tqdm(files_not_in_dir2):\n",
    "    orig = os.path.join(pdir1, file)\n",
    "    dest = os.path.join(pdir2, file)\n",
    "    shutil.copy(orig, dest)"
   ]
  },
  {
   "cell_type": "code",
   "execution_count": null,
   "id": "d02af58b",
   "metadata": {},
   "outputs": [],
   "source": [
    "phdu.delete_stdin_files()"
   ]
  },
  {
   "cell_type": "code",
   "execution_count": null,
   "id": "8bc3b0ae",
   "metadata": {},
   "outputs": [],
   "source": [
    "data, specs = analysis.feature_importances_shap_prunner()"
   ]
  },
  {
   "cell_type": "code",
   "execution_count": null,
   "id": "56cc4945",
   "metadata": {},
   "outputs": [],
   "source": [
    "# data_cp, specs_cp = deepcopy(data), deepcopy(specs)\n",
    "# data, specs = deepcopy(data_cp), deepcopy(specs_cp)"
   ]
  },
  {
   "cell_type": "code",
   "execution_count": null,
   "id": "8491ce1f",
   "metadata": {},
   "outputs": [],
   "source": []
  },
  {
   "cell_type": "code",
   "execution_count": null,
   "id": "fa2dbbef",
   "metadata": {},
   "outputs": [],
   "source": [
    "data, specs = join_feature_effects(data, specs)"
   ]
  },
  {
   "cell_type": "code",
   "execution_count": null,
   "id": "fa2c7569",
   "metadata": {},
   "outputs": [],
   "source": [
    "df = pd.DataFrame(data['shap_values'], columns=specs['features'])"
   ]
  },
  {
   "cell_type": "code",
   "execution_count": null,
   "id": "5365b300",
   "metadata": {},
   "outputs": [],
   "source": [
    "df.abs().mean()"
   ]
  },
  {
   "cell_type": "code",
   "execution_count": null,
   "id": "9dd413b3",
   "metadata": {},
   "outputs": [],
   "source": [
    "%run nuredduna_programmes/stage_clf_report.py -w coast-d+bathymetry -m tree -p 1 -C true -D \"cos t,sin t\""
   ]
  },
  {
   "cell_type": "code",
   "execution_count": null,
   "id": "0c260ceb",
   "metadata": {},
   "outputs": [],
   "source": [
    "analysis.overlap_vs_acc_plot(weather=None)"
   ]
  },
  {
   "cell_type": "code",
   "execution_count": null,
   "id": "28026d43",
   "metadata": {},
   "outputs": [],
   "source": [
    "p = analysis.error_analysis_shap_performance()\n",
    "(p['error'] - p['error_baseline']) / p['error_baseline']"
   ]
  },
  {
   "cell_type": "code",
   "execution_count": null,
   "id": "b7bb3274",
   "metadata": {},
   "outputs": [],
   "source": [
    "p = analysis.error_analysis_shap_performance(species_level=True)\n",
    "(p['error'] - p['error_baseline']) / p['error_baseline']"
   ]
  },
  {
   "cell_type": "code",
   "execution_count": null,
   "id": "b93627af",
   "metadata": {},
   "outputs": [],
   "source": [
    "kwargs = {'weather': None, 'pad_day_rate': 6, 'common_origin_distance': True, 'delete_features': [], 'model': 'tree', 'nf': 32, 'overwrite': False}\n",
    "kwargs['species_train'] = 'Audouins gull'\n",
    "\n",
    "df, dft = analysis.stage_clf_report(**kwargs)"
   ]
  },
  {
   "cell_type": "code",
   "execution_count": null,
   "id": "78b8f88c",
   "metadata": {},
   "outputs": [],
   "source": [
    "df = analysis.stage_transfer_learning_matrix(model='inception', pad_day_rate=None, weather='coast-d+bathymetry', common_origin_distance=True, stage_remap='binary', negative_to=None, cluster=True, invert_lat=False, delete_features=['cos t', 'sin t'])"
   ]
  },
  {
   "cell_type": "code",
   "execution_count": null,
   "id": "2251b6a6",
   "metadata": {},
   "outputs": [],
   "source": [
    "species_test = 'Baraus petrel'\n",
    "min_transfer_acc = 0.2\n",
    "species_transfer_acc = df[species_test].dropna()\n",
    "species_transfer_acc = species_transfer_acc[species_transfer_acc.abs() > min_transfer_acc]\n",
    "switched_labels = species_transfer_acc < 0\n",
    "species_switched = species_transfer_acc[switched_labels].index.to_list()\n",
    "species_normal = species_transfer_acc[~switched_labels].index.to_list()"
   ]
  },
  {
   "cell_type": "code",
   "execution_count": null,
   "id": "287d8115",
   "metadata": {},
   "outputs": [],
   "source": [
    "species_switched"
   ]
  },
  {
   "cell_type": "code",
   "execution_count": null,
   "id": "78b8b3b0",
   "metadata": {},
   "outputs": [],
   "source": [
    "df[species_test]"
   ]
  },
  {
   "cell_type": "code",
   "execution_count": null,
   "id": "8621a262",
   "metadata": {},
   "outputs": [],
   "source": [
    "ex = analysis.stage_transfer_learning(model=model, pad_day_rate=pad_day_rate, weather=weather, common_origin_distance=common_origin_distance, stage_remap=stage_remap, delete_features=delete_features, invert_lat=invert_lat, species_train='Chinstrap penguin')"
   ]
  },
  {
   "cell_type": "code",
   "execution_count": null,
   "id": "1e6d0669",
   "metadata": {},
   "outputs": [],
   "source": [
    "ex"
   ]
  },
  {
   "cell_type": "code",
   "execution_count": null,
   "id": "eec6f52a",
   "metadata": {},
   "outputs": [],
   "source": [
    "df"
   ]
  },
  {
   "cell_type": "code",
   "execution_count": null,
   "id": "1b549a72",
   "metadata": {},
   "outputs": [],
   "source": [
    "mode = None\n",
    "elif mode == 'transfer':\n",
    "    split_by = dict(column=['COMMON_NAME'], colvalue=species_transfer_acc)\n",
    "species_stage = species_transfer_acc + [species_train]\n",
    "prunning_function=preprocessing.get_prunning_function(label='Stage', func=func)\n",
    "kwargs = dict(v2=True, weather=weather, prunning_function=prunning_function, common_origin_distance=common_origin_distance, species_stage=species_stage, delete_features=delete_features, pad_day_rate=pad_day_rate, fill_pad_day_rate=False, scale_by_velocity=True, split_by=split_by)\n",
    "\n",
    "g, l = compute_gradient_attribution(self, partition='side')\n",
    "g_total = g.sum(axis=1).sum(axis=1)\n",
    "l_total = l.sum(axis=1)\n",
    "g2, l2 = compute_gradient_attribution(self, partition='test')\n",
    "g2_total = g2.sum(axis=1).sum(axis=1)\n",
    "l2_total = l2.sum(axis=1)"
   ]
  },
  {
   "cell_type": "code",
   "execution_count": null,
   "id": "6079cc8c",
   "metadata": {},
   "outputs": [],
   "source": [
    "g3, l3 = compute_gradient_attribution(self, partition='train')\n",
    "g3_total = g3.sum(axis=1).sum(axis=1)\n",
    "l3_total = l3.sum(axis=1)"
   ]
  },
  {
   "cell_type": "code",
   "execution_count": null,
   "id": "b9fb068c",
   "metadata": {},
   "outputs": [],
   "source": [
    "plt.plot(l_total, g_total, '.', label='side')\n",
    "plt.plot(l3_total, g3_total, 'r.', label='train')\n",
    "plt.plot(l2_total, g2_total, 'g.', label='test')\n",
    "loss_threshold = 0.25\n",
    "plt.axvline(loss_threshold, color='k')\n",
    "plt.xlim(0, 2)\n",
    "plt.legend()\n",
    "\n",
    "if mode == 'transfer':\n",
    "    valid = ((l_total < loss_threshold)) # & (g_total > 0))\n",
    "    self.X_train_updated = tf.concat([self.X_train, self.X_side[valid]], axis=0)\n",
    "    self.y_train_updated = tf.concat([self.y_train, self.y_side[valid]], axis=0)\n",
    "    self.y_train_short = tf.concat([self.y_train_short, self.y_side_short[valid]], axis=0)\n",
    "# randomize\n",
    "    idx = np.arange(self.X_train_updated.shape[0])\n",
    "    np.random.shuffle(idx)\n",
    "    self.X_train_updated = tf.gather(self.X_train_updated, idx)\n",
    "    self.y_train_updated = tf.gather(self.y_train_updated, idx)\n",
    "    self.y_train_short = tf.gather(self.y_train_short, idx)\n",
    "\n",
    "    for col in ['Days in trajectory (all)', 'Days in trajectory (year)']:\n",
    "        self.labels_train[col] = self.labels_train[col].astype(float)\n",
    "        self.labels_side[col] = self.labels_side[col].astype(float)\n",
    "        col_interval = f\"{col} - interval\"\n",
    "        self.labels_train = self.labels_train.drop(columns=col_interval)\n",
    "        self.labels_side = self.labels_side.drop(columns=col_interval)\n",
    "    self.labels_train_updated = pd.concat([self.labels_train, self.labels_side[valid]], axis=0, ignore_index=True).iloc[idx]\n",
    "    self.labels_test_updated = self.labels_test\n",
    "    self.X_test_updated = self.X_test\n",
    "    self.y_test_updated = self.y_test\n",
    "    self.y_test_short_updated = self.y_test_short\n",
    "\n",
    "ID_transfer = self.labels_side[valid].ID.values\n",
    "tidypath.storage.save_lzma(ID_transfer, 'ID_transfer.lzma')"
   ]
  },
  {
   "cell_type": "code",
   "execution_count": null,
   "id": "15c6820e",
   "metadata": {},
   "outputs": [],
   "source": [
    "plt.plot(l[:, 0], g_total, '.')"
   ]
  },
  {
   "cell_type": "code",
   "execution_count": null,
   "id": "1d7aff4c",
   "metadata": {},
   "outputs": [],
   "source": [
    "from scipy.stats import spearmanr\n",
    "spearmanr(l[:, 0], g_total)"
   ]
  },
  {
   "cell_type": "code",
   "execution_count": null,
   "id": "6569b7f5",
   "metadata": {},
   "outputs": [],
   "source": []
  },
  {
   "cell_type": "code",
   "execution_count": null,
   "id": "bcc43c25",
   "metadata": {},
   "outputs": [],
   "source": []
  },
  {
   "cell_type": "code",
   "execution_count": null,
   "id": "fba75d2f",
   "metadata": {},
   "outputs": [],
   "source": [
    "import adapt\n",
    "from adapt.instance_based import TrAdaBoost\n",
    "# self.model = DecisionTreeClassifier()\n",
    "if self.y_side_train.shape[1] == 1:\n",
    "    y_side_train_complementary = 1 - self.y_side_train\n",
    "    self.y_side_train = tf.concat([self.y_side_train, y_side_train_complementary], axis=1)\n",
    "model = TrAdaBoost(self.model, n_estimators=10, lr=1,  Xt=self.X_side_train, yt=self.y_side_train, random_state=0, epochs=60, **self.compiler_kwargs)"
   ]
  },
  {
   "cell_type": "code",
   "execution_count": null,
   "id": "be6080ad",
   "metadata": {},
   "outputs": [],
   "source": [
    "m2 = DecisionTreeClassifier()\n",
    "m2.fit(self.X_side_train, self.y_side_train)\n",
    "(m2.predict(self.X_side_test) == self.y_side_test).mean()"
   ]
  },
  {
   "cell_type": "code",
   "execution_count": null,
   "id": "c95a4054",
   "metadata": {},
   "outputs": [],
   "source": [
    "m2 = DecisionTreeClassifier()\n",
    "m2.fit(self.X_train, self.y_train)\n",
    "(m2.predict(self.X_side_test) == self.y_side_test).mean()"
   ]
  },
  {
   "cell_type": "code",
   "execution_count": null,
   "id": "403509f2",
   "metadata": {},
   "outputs": [],
   "source": [
    "1 - self.y_side_test.mean()"
   ]
  },
  {
   "cell_type": "code",
   "execution_count": null,
   "id": "cdd9f96f",
   "metadata": {},
   "outputs": [],
   "source": [
    "if self.y_train.shape[1] == 1:\n",
    "    y_train_complementary = 1 - self.y_train\n",
    "    self.y_train = tf.concat([self.y_train, y_train_complementary], axis=1)\n",
    "model.fit(self.X_train, self.y_train)"
   ]
  },
  {
   "cell_type": "code",
   "execution_count": null,
   "id": "1b1aa7eb",
   "metadata": {},
   "outputs": [],
   "source": []
  },
  {
   "cell_type": "code",
   "execution_count": null,
   "id": "910538f9",
   "metadata": {},
   "outputs": [],
   "source": [
    "self.model."
   ]
  },
  {
   "cell_type": "code",
   "execution_count": null,
   "id": "c431cb9c",
   "metadata": {},
   "outputs": [],
   "source": [
    "self.model.predict(self.X_train).shape"
   ]
  },
  {
   "cell_type": "code",
   "execution_count": null,
   "id": "e0004ed1",
   "metadata": {},
   "outputs": [],
   "source": [
    "# model.fit(self.X_side_train, self.y_side_train)"
   ]
  },
  {
   "cell_type": "code",
   "execution_count": null,
   "id": "58c963f0",
   "metadata": {},
   "outputs": [],
   "source": [
    "model.score(self.X_side_test, self.y_side_test), model.score(self.X_test, self.y_test)"
   ]
  },
  {
   "cell_type": "code",
   "execution_count": null,
   "id": "da8d6fc7",
   "metadata": {},
   "outputs": [],
   "source": [
    "end[602]"
   ]
  },
  {
   "cell_type": "code",
   "execution_count": null,
   "id": "8f5c4432",
   "metadata": {},
   "outputs": [],
   "source": [
    "labels = clf.labels_side"
   ]
  },
  {
   "cell_type": "code",
   "execution_count": null,
   "id": "f80e7a66",
   "metadata": {},
   "outputs": [],
   "source": [
    "labels"
   ]
  },
  {
   "cell_type": "code",
   "execution_count": null,
   "id": "66e47462",
   "metadata": {},
   "outputs": [],
   "source": [
    "start, end"
   ]
  },
  {
   "cell_type": "code",
   "execution_count": null,
   "id": "db37a438",
   "metadata": {},
   "outputs": [],
   "source": [
    "# take data from other species from test\n",
    "valid = clf.labels_test.query(\"COMMON_NAME == @species_test\").index.to_numpy()"
   ]
  },
  {
   "cell_type": "code",
   "execution_count": null,
   "id": "6bb78f6e",
   "metadata": {},
   "outputs": [],
   "source": [
    "clf.labels_test = clf.labels_test.iloc[valid]"
   ]
  },
  {
   "cell_type": "code",
   "execution_count": null,
   "id": "cf01ba06",
   "metadata": {},
   "outputs": [],
   "source": [
    "clf.X_"
   ]
  },
  {
   "cell_type": "code",
   "execution_count": null,
   "id": "f7b06991",
   "metadata": {},
   "outputs": [],
   "source": [
    "clf.X_test = clf.X_test[valid]\n",
    "clf.y_test_short = clf.y_test_short[valid]"
   ]
  },
  {
   "cell_type": "code",
   "execution_count": null,
   "id": "f8c71353",
   "metadata": {},
   "outputs": [],
   "source": [
    "_ = clf.train()\n",
    "clf.evaluator()[-1]"
   ]
  },
  {
   "cell_type": "code",
   "execution_count": null,
   "id": "c94380f5",
   "metadata": {},
   "outputs": [],
   "source": [
    "# Remapped\n",
    "for weather in tqdm([None, 'coast-d+bathymetry', 'all']):\n",
    "    for model in ['tree', 'inception']:\n",
    "        for pad_day_rate in [None, 1, 6]: #24]:\n",
    "            for common_origin_distance in [True, False]:\n",
    "                for delete_features in [[], ['cos t', 'sin t']]:\n",
    "                    for cluster in [True, False]:\n",
    "                        try:\n",
    "                            analysis.stage_transfer_learning_bidirectional_plot(model=model, pad_day_rate=pad_day_rate, weather=weather, common_origin_distance=common_origin_distance, delete_features=delete_features, cluster=cluster)\n",
    "                        except Exception as e:\n",
    "                            continue"
   ]
  },
  {
   "cell_type": "code",
   "execution_count": null,
   "id": "7c5b0ef3",
   "metadata": {},
   "outputs": [],
   "source": [
    "# Directly trained for binary clf\n",
    "for weather in tqdm([None, 'coast-d+bathymetry', 'all']):\n",
    "    for pad_day_rate in [None, 6]: #24]:\n",
    "        for common_origin_distance in [True]:#, False]:\n",
    "            for delete_features in [[], ['cos t', 'sin t']]:\n",
    "                for cluster in [True]:#, False]:\n",
    "                    try:\n",
    "                        analysis.stage_transfer_learning_bidirectional_plot(pad_day_rate=pad_day_rate, weather=weather, common_origin_distance=common_origin_distance, delete_features=delete_features, cluster=cluster)\n",
    "                    except Exception as e:\n",
    "                        continue"
   ]
  },
  {
   "cell_type": "code",
   "execution_count": null,
   "id": "637ec930",
   "metadata": {},
   "outputs": [],
   "source": [
    "df = analysis.stage_transfer_learning_binary_matrix_acc(common_origin_distance=True, weather=None, pad_day_rate=None)"
   ]
  },
  {
   "cell_type": "code",
   "execution_count": null,
   "id": "b0f2288d",
   "metadata": {},
   "outputs": [],
   "source": [
    "df"
   ]
  },
  {
   "cell_type": "code",
   "execution_count": null,
   "id": "d7f3a7d5",
   "metadata": {},
   "outputs": [],
   "source": [
    "df, labels, year = preprocessing.load_all_data(v2=True, weather=None, return_labels=True, species_stage='Corys shearwater')"
   ]
  },
  {
   "cell_type": "code",
   "execution_count": null,
   "id": "780f7c41",
   "metadata": {},
   "outputs": [],
   "source": [
    "for species in tqdm(params.stage_species_v2):\n",
    "    data_visualization.trajectories_by_stage(species)"
   ]
  },
  {
   "cell_type": "code",
   "execution_count": null,
   "id": "da023822",
   "metadata": {},
   "outputs": [],
   "source": [
    "','.join(params.stage_species_v2)"
   ]
  },
  {
   "cell_type": "code",
   "execution_count": null,
   "id": "4031aab7",
   "metadata": {},
   "outputs": [],
   "source": [
    "for clf in ['tree', 'inception']:\n",
    "    analysis.stage_clf_performance_summary_plot(clf=clf)"
   ]
  },
  {
   "cell_type": "code",
   "execution_count": null,
   "id": "c49154a4",
   "metadata": {},
   "outputs": [],
   "source": [
    "for weather in tqdm([None, 'coast-d+bathymetry', 'all']):\n",
    "    for model in ['tree']:#, 'inception']:\n",
    "        for pad_day_rate in [None, 1, 6, 24]:\n",
    "            for common_origin_distance in [True, False]:\n",
    "                for delete_features in [[], ['cos t', 'sin t']]:\n",
    "                    for stage_remap in ['not-in-train', 'binary']:\n",
    "                        try:\n",
    "                            analysis.stage_transfer_learning_plot(weather=weather, model=model, pad_day_rate=pad_day_rate, common_origin_distance=common_origin_distance, delete_features=delete_features, stage_remap=stage_remap)\n",
    "                        except:\n",
    "                            continue"
   ]
  },
  {
   "cell_type": "code",
   "execution_count": null,
   "id": "2afec820",
   "metadata": {},
   "outputs": [],
   "source": [
    "# !tar -czvf figs_stage_transfer_learning.tar.gz figs/analysis/stage_transfer_learning_bidirectional_plot\n",
    "# extract tar.gz\n",
    "# tar -xzvf figs_stage_transfer_learning.tar.gz"
   ]
  },
  {
   "cell_type": "code",
   "execution_count": null,
   "id": "1517db74",
   "metadata": {},
   "outputs": [],
   "source": [
    "for weather in tqdm([None, 'coast-d+bathymetry', 'all']):\n",
    "    for model in ['inception']:\n",
    "        for pad_day_rate in [None, 6]: #[None, 1, 6, 24]:\n",
    "            for common_origin_distance in [True, False]:\n",
    "                for delete_features in [[], ['cos t', 'sin t']]:\n",
    "                    for stage_remap in ['not-in-train']: #, 'binary']:\n",
    "                        try:\n",
    "                            analysis.stage_transfer_learning_plot(weather=weather, model=model, pad_day_rate=pad_day_rate, common_origin_distance=common_origin_distance, delete_features=delete_features, stage_remap=stage_remap, cluster=False)\n",
    "                        except:\n",
    "                            continue"
   ]
  },
  {
   "cell_type": "code",
   "execution_count": null,
   "id": "3551b867",
   "metadata": {},
   "outputs": [],
   "source": [
    "df = analysis.stage_clf_report(model='inception', skip_computation=True)\n",
    "if isinstance(df, tuple):\n",
    "    df, dft = df"
   ]
  },
  {
   "cell_type": "code",
   "execution_count": null,
   "id": "e5793def",
   "metadata": {},
   "outputs": [],
   "source": [
    "df = df.groupby(\"COMMON_NAME\").apply(analysis.remap_stage_not_in_training_set)"
   ]
  },
  {
   "cell_type": "code",
   "execution_count": null,
   "id": "bade5b84",
   "metadata": {},
   "outputs": [],
   "source": [
    "acc = df.groupby('COMMON_NAME').apply(lambda df: (df['Stage'] == df['Predicted']).mean())"
   ]
  },
  {
   "cell_type": "code",
   "execution_count": null,
   "id": "9437cb61",
   "metadata": {},
   "outputs": [],
   "source": []
  },
  {
   "cell_type": "code",
   "execution_count": null,
   "id": "6ffe1d7e",
   "metadata": {},
   "outputs": [],
   "source": [
    "# species = ['Black-browed albatross', 'Corys shearwater', 'Scopolis shearwater', 'Black-footed albatross']\n",
    "maxlens = {None: 200, 6: 100, 24: 160, 2:44, 3: 60}\n",
    "weather = 'all' # 'coast-d+bathymetry' #None\n",
    "pad_day_rate = 3\n",
    "common_origin_distance = True\n",
    "species = params.stage_species_v2\n",
    "species_train = 'Black-browed albatross'\n",
    "\n",
    "delete_features = [] # ['cos t', 'sin t']\n",
    "species_side = [s for s in species if s != species_train]\n",
    "func = lambda df: relabel_stages(df, species_train, remap_breeding=False)\n",
    "# func = relabel_stages_binary\n",
    "prunning_function=preprocessing.get_prunning_function(label='Stage', func=func)\n",
    "split_by = dict(column=['COMMON_NAME'], colvalue=species_side)\n",
    "kwargs = dict(v2=True, weather=weather, prunning_function=prunning_function, common_origin_distance=common_origin_distance, species_stage=species, split_by=split_by, delete_features=delete_features, pad_day_rate=pad_day_rate, fill_pad_day_rate=False, scale_by_velocity=True, fit_scale_side=True, species_train=species_train)\n",
    "# tree = DecisionTree(**kwargs)\n",
    "maxlen = maxlens[pad_day_rate]\n",
    "tree = InceptionTime(**kwargs, nb_filters=32, maxlen=maxlen, get_input_len_from='maxlen')"
   ]
  },
  {
   "cell_type": "code",
   "execution_count": null,
   "id": "96177f09",
   "metadata": {},
   "outputs": [],
   "source": [
    "tree.X[0].shape, tree.features"
   ]
  },
  {
   "cell_type": "code",
   "execution_count": null,
   "id": "48a002d6",
   "metadata": {},
   "outputs": [],
   "source": [
    "maxlen_data = tree.labels_side.groupby('COMMON_NAME').apply(lambda S: np.percentile(S.Length.values, 90))\n",
    "maxlen_data[species_train] = np.percentile(tree.labels.Length.values, 90)\n",
    "maxlen_data.median() # 200, 116 for pad_day_rate=6"
   ]
  },
  {
   "cell_type": "code",
   "execution_count": null,
   "id": "54848fdb",
   "metadata": {},
   "outputs": [],
   "source": [
    "# _ = tree.train(test_size=0.1)\n",
    "_ = tree.train(test_size=0.1, epochs=80)\n",
    "tree.evaluator()[-1]"
   ]
  },
  {
   "cell_type": "code",
   "execution_count": null,
   "id": "77a8172f",
   "metadata": {},
   "outputs": [],
   "source": [
    "df, dft = analysis.stage_clf_report(model='tree', pad_day_rate=3, weather='coast-d+bathymetry', common_origin_distance=True)"
   ]
  },
  {
   "cell_type": "code",
   "execution_count": null,
   "id": "ebc9a501",
   "metadata": {},
   "outputs": [],
   "source": []
  },
  {
   "cell_type": "code",
   "execution_count": null,
   "id": "0aa9cb13",
   "metadata": {},
   "outputs": [],
   "source": [
    "# acc_remap - acc"
   ]
  },
  {
   "cell_type": "code",
   "execution_count": null,
   "id": "44d996be",
   "metadata": {},
   "outputs": [],
   "source": [
    "df4 = df2.groupby('COMMON_NAME').apply(remap_prediction)\n",
    "acc_v2 = df4.groupby('COMMON_NAME').apply(lambda df: (df['Stage'] == df['Predicted-v2']).mean())\n",
    "acc_v2_base = df4.groupby('COMMON_NAME').apply(lambda df: df.Stage.value_counts(normalize=True).max())\n",
    "df_bin = df2.groupby('COMMON_NAME').apply(remap_binary)\n",
    "acc_bin = df_bin.groupby('COMMON_NAME').apply(lambda df: (df['Stage-binary'] == df['Predicted-binary']).mean())\n",
    "acc_bin_base = df_bin.groupby('COMMON_NAME').apply(lambda df: df['Stage-binary'].value_counts(normalize=True).max())"
   ]
  },
  {
   "cell_type": "code",
   "execution_count": null,
   "id": "3b770e99",
   "metadata": {},
   "outputs": [],
   "source": [
    "not_one_type = acc_v2_base < 0.9\n",
    "(acc_v2[not_one_type] - acc_v2_base[not_one_type]).plot(kind='bar')"
   ]
  },
  {
   "cell_type": "code",
   "execution_count": null,
   "id": "2d8fe1f2",
   "metadata": {},
   "outputs": [],
   "source": [
    "df4.query(\"COMMON_NAME == 'Corys shearwater'\")"
   ]
  },
  {
   "cell_type": "code",
   "execution_count": null,
   "id": "c75c1cca",
   "metadata": {},
   "outputs": [],
   "source": [
    "acc_v2_base"
   ]
  },
  {
   "cell_type": "code",
   "execution_count": null,
   "id": "b90e2d64",
   "metadata": {},
   "outputs": [],
   "source": [
    "not_one_type = acc_bin_base < 0.9\n",
    "(acc_bin[not_one_type] - acc_bin_base[not_one_type]).plot(kind='bar')"
   ]
  },
  {
   "cell_type": "code",
   "execution_count": null,
   "id": "9f61fcd4",
   "metadata": {},
   "outputs": [],
   "source": [
    "acc_bin_base[not_one_type]"
   ]
  },
  {
   "cell_type": "code",
   "execution_count": null,
   "id": "70c7b89c",
   "metadata": {},
   "outputs": [],
   "source": [
    "df2.query(\"COMMON_NAME == 'Northern gannet'\").Stage.value_counts()"
   ]
  },
  {
   "cell_type": "code",
   "execution_count": null,
   "id": "6af8a7d9",
   "metadata": {},
   "outputs": [],
   "source": [
    "acc_remap"
   ]
  },
  {
   "cell_type": "code",
   "execution_count": null,
   "id": "14f9fa7e",
   "metadata": {},
   "outputs": [],
   "source": [
    "# acc_remap_weather = acc_remap.copy()\n",
    "acc_remap_weather"
   ]
  },
  {
   "cell_type": "code",
   "execution_count": null,
   "id": "bbb71789",
   "metadata": {},
   "outputs": [],
   "source": [
    "acc"
   ]
  },
  {
   "cell_type": "code",
   "execution_count": null,
   "id": "e0a25fb4",
   "metadata": {},
   "outputs": [],
   "source": [
    "cm, categories = analysis.compute_confusion_matrix(df=df3, cols=['Stage'], artificial_trajectory=[])"
   ]
  },
  {
   "cell_type": "code",
   "execution_count": null,
   "id": "a1e07808",
   "metadata": {},
   "outputs": [],
   "source": [
    "good = acc_remap > 0.4\n",
    "species = good[good].index.tolist()\n",
    "df4 = df3.query(\"COMMON_NAME in @species\")\n",
    "cm, categories = analysis.compute_confusion_matrix(df=df4, cols=['Stage'], artificial_trajectory=[])"
   ]
  },
  {
   "cell_type": "code",
   "execution_count": null,
   "id": "10362994",
   "metadata": {},
   "outputs": [],
   "source": [
    "cm"
   ]
  },
  {
   "cell_type": "code",
   "execution_count": null,
   "id": "fbd5895b",
   "metadata": {},
   "outputs": [],
   "source": [
    "# S = df2.query(\"COMMON_NAME == 'Grey-headed albatross'\")\n",
    "S = df2.query(\"COMMON_NAME == 'Audouins gull'\")\n",
    "S = S[S['Stage'] != 'unknown']"
   ]
  },
  {
   "cell_type": "code",
   "execution_count": null,
   "id": "4ab975e6",
   "metadata": {},
   "outputs": [],
   "source": [
    "S.groupby('Stage').apply(lambda df: (df['Stage'] == df['Predicted']).mean())"
   ]
  },
  {
   "cell_type": "code",
   "execution_count": null,
   "id": "0d22d5b5",
   "metadata": {},
   "outputs": [],
   "source": [
    "S.groupby('Stage').apply(lambda df: (df['Stage'] == df['Predicted']).mean())"
   ]
  },
  {
   "cell_type": "code",
   "execution_count": null,
   "id": "68ce1cef",
   "metadata": {},
   "outputs": [],
   "source": [
    "S.groupby('Stage').apply(lambda df: (df['Stage'] == df['Predicted']).mean())"
   ]
  },
  {
   "cell_type": "code",
   "execution_count": null,
   "id": "d32669bb",
   "metadata": {},
   "outputs": [],
   "source": [
    "species = 'Black-browed albatross'\n",
    "vertices = []# params.location_prunning[species]\n",
    "prunning_function=preprocessing.get_prunning_function(column='COMMON_NAME', colvalue=species, label='Stage')#, vertices=vertices)\n",
    "split_by = dict(column=None, colvalue=None)#params.stage_split_by[species]\n",
    "kwargs = dict(v2=True, weather=None, prunning_function=prunning_function, split_by=split_by, common_origin_distance=True, species_stage=species)\n",
    "tree = DecisionTree(**kwargs)\n",
    "_ = tree.train()\n",
    "tree.evaluator()[-1]"
   ]
  },
  {
   "cell_type": "code",
   "execution_count": null,
   "id": "38ef7854",
   "metadata": {},
   "outputs": [],
   "source": [
    "species = 'Corys shearwater'\n",
    "analysis.stage_clf_performance(species, model='resnet', n_feature_maps=32, weather=None, common_origin_distance=False)"
   ]
  },
  {
   "cell_type": "code",
   "execution_count": null,
   "id": "8ed37fe0",
   "metadata": {},
   "outputs": [],
   "source": [
    "acc = {}\n",
    "for species in params.stage_species_v2:\n",
    "    acc[species] = analysis.stage_clf_performance(species, model='tree')\n",
    "acc = pd.Series(acc).sort_values()"
   ]
  },
  {
   "cell_type": "code",
   "execution_count": null,
   "id": "50d4eef3",
   "metadata": {},
   "outputs": [],
   "source": [
    "analysis.stage_clf_performance_summary()"
   ]
  }
 ],
 "metadata": {
  "kernelspec": {
   "display_name": "Python 3 (ipykernel)",
   "language": "python",
   "name": "python3"
  },
  "language_info": {
   "codemirror_mode": {
    "name": "ipython",
    "version": 3
   },
   "file_extension": ".py",
   "mimetype": "text/x-python",
   "name": "python",
   "nbconvert_exporter": "python",
   "pygments_lexer": "ipython3",
   "version": "3.10.11"
  },
  "toc": {
   "base_numbering": 1,
   "nav_menu": {},
   "number_sections": true,
   "sideBar": true,
   "skip_h1_title": false,
   "title_cell": "Table of Contents",
   "title_sidebar": "Contents",
   "toc_cell": false,
   "toc_position": {},
   "toc_section_display": true,
   "toc_window_display": false
  }
 },
 "nbformat": 4,
 "nbformat_minor": 5
}

{
 "cells": [
  {
   "cell_type": "markdown",
   "id": "3789a28f",
   "metadata": {},
   "source": [
    "## Packages and params"
   ]
  },
  {
   "cell_type": "code",
   "execution_count": null,
   "id": "31d30c89",
   "metadata": {},
   "outputs": [],
   "source": [
    "#Packages\n",
    "from _notebook_pkgs  import *"
   ]
  },
  {
   "cell_type": "markdown",
   "id": "eefb1e64",
   "metadata": {
    "heading_collapsed": true
   },
   "source": [
    "# Dataset"
   ]
  },
  {
   "cell_type": "code",
   "execution_count": null,
   "id": "3b33051e",
   "metadata": {
    "hidden": true
   },
   "outputs": [],
   "source": [
    "df, labels, _ = preprocessing.load_all_data(v2=True, weather=None, return_labels=True)\n",
    "df_exp = preprocessing.load_all_data(v2=True, weather=None, return_labels=False, expand_df=True)"
   ]
  },
  {
   "cell_type": "markdown",
   "id": "ad680b36",
   "metadata": {
    "heading_collapsed": true
   },
   "source": [
    "# Feature selection"
   ]
  },
  {
   "cell_type": "code",
   "execution_count": null,
   "id": "979c522b",
   "metadata": {
    "hidden": true
   },
   "outputs": [],
   "source": [
    "corr = preprocessing.feature_corr(method='pearson')"
   ]
  },
  {
   "cell_type": "code",
   "execution_count": null,
   "id": "dea9cf70",
   "metadata": {
    "hidden": true
   },
   "outputs": [],
   "source": [
    "vif = preprocessing.feature_vif()\n",
    "exclude_cols = 'collinear+IR albedo (direct)'\n",
    "excluded = ['IR albedo (direct)']\n",
    "keep = ['Temperature']#, 'Salinity']\n",
    "for i in range(10):\n",
    "    print(exclude_cols)\n",
    "    vif = preprocessing.feature_vif(exclude_cols=exclude_cols)\n",
    "    vif = vif.query(\"variables not in @keep\")\n",
    "    candidate = vif.sort_values('VIF', ascending=False).iloc[0]['variables']\n",
    "    exclude_cols += '+' + candidate\n",
    "    excluded.append(candidate)"
   ]
  },
  {
   "cell_type": "code",
   "execution_count": null,
   "id": "97fa09c4",
   "metadata": {
    "hidden": true
   },
   "outputs": [],
   "source": [
    "vif = preprocessing.feature_vif()\n",
    "highest_VIF = {None: vif.VIF.max()}\n",
    "exclude_cols = 'collinear+IR albedo (direct)'\n",
    "excluded = ['IR albedo (direct)']\n",
    "keep = ['Temperature']#, 'Salinity']\n",
    "for i in range(10):\n",
    "    print(exclude_cols)\n",
    "    vif = preprocessing.feature_vif(exclude_cols=exclude_cols)\n",
    "    highest_VIF[i] = vif.VIF.max()\n",
    "    if highest_VIF[i] < 10:\n",
    "        break\n",
    "    vif = vif.query(\"variables not in @keep\")\n",
    "    candidate = vif.sort_values('VIF', ascending=False).iloc[0]['variables']\n",
    "    exclude_cols += '+' + candidate\n",
    "    excluded.append(candidate)"
   ]
  },
  {
   "cell_type": "code",
   "execution_count": null,
   "id": "46943200",
   "metadata": {
    "hidden": true
   },
   "outputs": [],
   "source": [
    "candidate"
   ]
  },
  {
   "cell_type": "code",
   "execution_count": null,
   "id": "293a0125",
   "metadata": {
    "hidden": true
   },
   "outputs": [],
   "source": [
    "pd.Series(highest_VIF)"
   ]
  },
  {
   "cell_type": "code",
   "execution_count": null,
   "id": "946a6c11",
   "metadata": {
    "hidden": true
   },
   "outputs": [],
   "source": [
    "vif.sort_values('VIF')"
   ]
  },
  {
   "cell_type": "code",
   "execution_count": null,
   "id": "8af2276d",
   "metadata": {
    "hidden": true
   },
   "outputs": [],
   "source": [
    "vif['variables'].values.tolist()"
   ]
  },
  {
   "cell_type": "code",
   "execution_count": null,
   "id": "8c24b22d",
   "metadata": {
    "hidden": true
   },
   "outputs": [],
   "source": [
    "exclude_cols = \"+\".join(exclude_cols.split(\"+\")[:-1])\n",
    "vif = preprocessing.feature_vif(exclude_cols=exclude_cols)\n",
    "vif.sort_values('VIF', ascending=False)"
   ]
  },
  {
   "cell_type": "code",
   "execution_count": null,
   "id": "f72ebf54",
   "metadata": {
    "hidden": true
   },
   "outputs": [],
   "source": [
    "# paper fig\n",
    "for corr_method in ['pearson', 'spearman']:\n",
    "    for ext in ['png', 'eps']:\n",
    "        analysis.feature_multicollinearity(ext=ext, corr_method=corr_method)"
   ]
  },
  {
   "cell_type": "code",
   "execution_count": null,
   "id": "61df920d",
   "metadata": {
    "hidden": true
   },
   "outputs": [],
   "source": [
    "for corr_method in ['pearson', 'spearman']:\n",
    "    for method in ['single', 'average', 'ward']:\n",
    "        analysis.feature_multicollinearity(method=method, corr_method=corr_method)"
   ]
  },
  {
   "cell_type": "markdown",
   "id": "640ca635",
   "metadata": {
    "hidden": true
   },
   "source": [
    "## Mutual information"
   ]
  },
  {
   "cell_type": "code",
   "execution_count": null,
   "id": "8d496344",
   "metadata": {
    "hidden": true
   },
   "outputs": [],
   "source": [
    "exclude_cols = 'collinear'\n",
    "exclude_cols = 'vif'\n",
    "if exclude_cols == 'collinear':\n",
    "    cols_pruned = preprocessing.weather_cols_v2['pruned'] + preprocessing.spatiotemporal_cols\n",
    "elif exclude_cols == 'vif':\n",
    "    cols_pruned = preprocessing.weather_cols_v2['vif'] + preprocessing.spatiotemporal_cols\n",
    "cols_pruned = [params.feature_map[c] for c in cols_pruned]"
   ]
  },
  {
   "cell_type": "code",
   "execution_count": null,
   "id": "252a2bf0",
   "metadata": {
    "hidden": true
   },
   "outputs": [],
   "source": [
    "mi = preprocessing.features_mi_normalized(n_neighbors=10)"
   ]
  },
  {
   "cell_type": "code",
   "execution_count": null,
   "id": "bead9791",
   "metadata": {
    "hidden": true
   },
   "outputs": [],
   "source": [
    "mi"
   ]
  },
  {
   "cell_type": "code",
   "execution_count": null,
   "id": "4edd3096",
   "metadata": {
    "hidden": true
   },
   "outputs": [],
   "source": [
    "# result = []\n",
    "# for n_neighbors in [3, 5, 10, 20, 50]:\n",
    "#     mi = preprocessing.features_mi_normalized(n_neighbors=n_neighbors)\n",
    "#     mi.name = f\"n={n_neighbors}\"\n",
    "#     result.append(mi)\n",
    "# df = pd.concat(result, axis=1)"
   ]
  },
  {
   "cell_type": "code",
   "execution_count": null,
   "id": "066fdda2",
   "metadata": {
    "hidden": true
   },
   "outputs": [],
   "source": [
    "# feature_map_inv = {v: k for k, v in params.feature_map.items()}\n",
    "# feature_map_inv"
   ]
  },
  {
   "cell_type": "code",
   "execution_count": null,
   "id": "8231c032",
   "metadata": {
    "hidden": true
   },
   "outputs": [],
   "source": [
    "features = [*params.feature_map.values()]\n",
    "features = [f for f in features if f not in ['SN', 'WE', 'Location', 'Time']]\n",
    "redundancy = []\n",
    "for f in features:\n",
    "    redundancy.append(preprocessing.features_redundancy(feature=f))\n",
    "df = pd.concat(redundancy, axis=1).T\n",
    "df = df[df.index.to_list()]\n",
    "max_entropy = pd.Series(np.diagonal(df.values), index=df.index)\n",
    "df /= np.diagonal(df.values)[:, None] * np.ones(df.shape)"
   ]
  },
  {
   "cell_type": "code",
   "execution_count": null,
   "id": "070ced89",
   "metadata": {
    "hidden": true
   },
   "outputs": [],
   "source": [
    "exclude_cols = None\n",
    "if exclude_cols is None:\n",
    "    mrmr_cols = deepcopy(df.columns)\n",
    "else:\n",
    "    mrmr_cols = deepcopy(cols_pruned)\n",
    "excluded = []\n",
    "for i in range(18):\n",
    "    df_mrmr = df.loc[mrmr_cols, mrmr_cols]\n",
    "    redundancy_mrmr = df_mrmr.mean().sort_values()\n",
    "    mi_mrmr = mi.loc[mrmr_cols]\n",
    "    MRMR_score = mi_mrmr - redundancy_mrmr\n",
    "    MRMR_score = MRMR_score.sort_values(ascending=False)\n",
    "    worst = MRMR_score.index[-1]\n",
    "    mrmr_cols = [c for c in mrmr_cols if c != worst]\n",
    "    excluded.append((worst, MRMR_score[worst]))"
   ]
  },
  {
   "cell_type": "code",
   "execution_count": null,
   "id": "05d96a63",
   "metadata": {
    "hidden": true
   },
   "outputs": [],
   "source": [
    "excluded"
   ]
  },
  {
   "cell_type": "code",
   "execution_count": null,
   "id": "ecffc12a",
   "metadata": {
    "hidden": true
   },
   "outputs": [],
   "source": [
    "MRMR_score"
   ]
  },
  {
   "cell_type": "code",
   "execution_count": null,
   "id": "26882b7f",
   "metadata": {
    "hidden": true
   },
   "outputs": [],
   "source": []
  },
  {
   "cell_type": "code",
   "execution_count": null,
   "id": "0bcb82af",
   "metadata": {
    "hidden": true
   },
   "outputs": [],
   "source": [
    "features_MRMR_collinear = MRMR_score[(MRMR_score > 0).values].index.tolist()"
   ]
  },
  {
   "cell_type": "code",
   "execution_count": null,
   "id": "35439894",
   "metadata": {
    "hidden": true
   },
   "outputs": [],
   "source": [
    "features_MRMR_collinear"
   ]
  },
  {
   "cell_type": "code",
   "execution_count": null,
   "id": "01e05903",
   "metadata": {
    "hidden": true
   },
   "outputs": [],
   "source": [
    "feature_map_inv = {v: k for k, v in params.feature_map.items()}\n",
    "[feature_map_inv[f] for f in features_MRMR_collinear]"
   ]
  },
  {
   "cell_type": "code",
   "execution_count": null,
   "id": "a7e89b29",
   "metadata": {
    "hidden": true
   },
   "outputs": [],
   "source": [
    "from scipy.cluster.hierarchy import dendrogram, linkage\n",
    "method = 'ward'\n",
    "distance = (1 - df).values\n",
    "corr_linkage = linkage(distance, method=method)\n",
    "order = dendrogram(corr_linkage, no_plot=True)['leaves']\n",
    "df_ordered = df.iloc[order, order]\n",
    "fig = px.imshow(df_ordered, zmin=0, zmax=1)\n",
    "fig.update_layout(height=1000, width=1300, xaxis_tickfont_size=15, yaxis_tickfont_size=15,\n",
    "                  xaxis_tickangle=-90,\n",
    "                  margin=dict(l=100, r=60, t=0, b=100),\n",
    "                  coloraxis_colorbar=dict(len=0.5, tickfont_size=20, title=dict(text='Mutual information', font=dict(size=26))),\n",
    "                  )\n",
    "fig.write_image('ex.png')"
   ]
  },
  {
   "cell_type": "code",
   "execution_count": null,
   "id": "ffc5cfca",
   "metadata": {
    "hidden": true
   },
   "outputs": [],
   "source": []
  },
  {
   "cell_type": "markdown",
   "id": "e8219de0",
   "metadata": {
    "heading_collapsed": true
   },
   "source": [
    "# NC preprocess"
   ]
  },
  {
   "cell_type": "code",
   "execution_count": null,
   "id": "99e826d0",
   "metadata": {
    "hidden": true
   },
   "outputs": [],
   "source": [
    "df_env_imputed = preprocessing.env_data_v2_imputed()"
   ]
  },
  {
   "cell_type": "code",
   "execution_count": null,
   "id": "8f0ea475",
   "metadata": {
    "hidden": true
   },
   "outputs": [],
   "source": [
    "df_env = nc_preprocess.env_data_full()"
   ]
  },
  {
   "cell_type": "markdown",
   "id": "02f0b22d",
   "metadata": {
    "heading_collapsed": true
   },
   "source": [
    "# Accuracy by sample size"
   ]
  },
  {
   "cell_type": "code",
   "execution_count": null,
   "id": "31ec718f",
   "metadata": {
    "hidden": true
   },
   "outputs": [],
   "source": [
    "# paper fig\n",
    "for ext in ['png', 'eps']:\n",
    "    for species in tqdm(params.species_100_animals):\n",
    "        acc_by_sample_size.complementary_acc_plot(species, common_origin_distance=True, weather=None, v2=True, random_states=range(1, 6), ext=ext)"
   ]
  },
  {
   "cell_type": "code",
   "execution_count": null,
   "id": "c55586b4",
   "metadata": {
    "hidden": true
   },
   "outputs": [],
   "source": [
    "# paper fig\n",
    "for ext in ['png', 'eps']:\n",
    "    acc_by_sample_size.sample_size_for_accuracy_taxas_comp_2(ext=ext)"
   ]
  },
  {
   "cell_type": "code",
   "execution_count": null,
   "id": "e74c7bca",
   "metadata": {
    "hidden": true
   },
   "outputs": [],
   "source": [
    "# paper fig\n",
    "for ext in ['png', 'eps']:\n",
    "    analysis.species_clf_avg_accuracy_taxa(ext=ext)"
   ]
  },
  {
   "cell_type": "code",
   "execution_count": null,
   "id": "3f7b743e",
   "metadata": {
    "hidden": true
   },
   "outputs": [],
   "source": [
    "acc_by_sample_size.sample_size_for_accuracy_taxas_comp()"
   ]
  },
  {
   "cell_type": "code",
   "execution_count": null,
   "id": "97f19506",
   "metadata": {
    "hidden": true
   },
   "outputs": [],
   "source": [
    "taxas = preprocessing.get_taxa_to_species().keys()\n",
    "for taxa in tqdm(taxas):\n",
    "    acc_by_sample_size.acc_by_sample_size_plot(taxa=taxa, common_origin_distance=True, weather=None, v2=True, random_states=range(1, 4), xaxis_type=None)"
   ]
  },
  {
   "cell_type": "code",
   "execution_count": null,
   "id": "22aafd97",
   "metadata": {
    "hidden": true
   },
   "outputs": [],
   "source": [
    "taxas = preprocessing.get_taxa_to_species().keys()\n",
    "for taxa in tqdm(taxas):\n",
    "    acc_by_sample_size.acc_by_sample_size_plot(taxa=taxa, common_origin_distance=False, weather='all', v2=True, random_states=range(1, 6), xaxis_type=None)"
   ]
  },
  {
   "cell_type": "code",
   "execution_count": null,
   "id": "f141ae6e",
   "metadata": {
    "hidden": true
   },
   "outputs": [],
   "source": [
    "S = acc_by_sample_size.acc_by_sample_size(common_origin_distance=True, weather=None, v2=True, random_states=range(1, 4))\n",
    "S.applymap(len, na_action='ignore').melt().value.value_counts()"
   ]
  },
  {
   "cell_type": "code",
   "execution_count": null,
   "id": "34982415",
   "metadata": {
    "hidden": true
   },
   "outputs": [],
   "source": [
    "S_extra = acc_by_sample_size.acc_by_sample_size(common_origin_distance=True, weather=None, v2=True, random_states=range(1, 6))"
   ]
  },
  {
   "cell_type": "code",
   "execution_count": null,
   "id": "4f9549f0",
   "metadata": {
    "hidden": true
   },
   "outputs": [],
   "source": [
    "S_extra.applymap(len, na_action='ignore').melt().value.value_counts()"
   ]
  },
  {
   "cell_type": "code",
   "execution_count": null,
   "id": "bbab2076",
   "metadata": {
    "hidden": true
   },
   "outputs": [],
   "source": [
    "S2 = acc_by_sample_size.acc_by_sample_size_filtered(common_origin_distance=True, weather=None, v2=True, random_states=range(1, 4), taxa='Penguins')\n",
    "s = S2['Adelie penguin'].dropna()"
   ]
  },
  {
   "cell_type": "code",
   "execution_count": null,
   "id": "5d3e4b7d",
   "metadata": {
    "hidden": true
   },
   "outputs": [],
   "source": [
    "slope = acc_by_sample_size.dn_slope_taxas(common_origin_distance=True, weather=None, v2=True, random_states=range(1, 6))"
   ]
  },
  {
   "cell_type": "code",
   "execution_count": null,
   "id": "1dbf9d9a",
   "metadata": {
    "hidden": true
   },
   "outputs": [],
   "source": [
    "slope_env = acc_by_sample_size.dn_slope_taxas(common_origin_distance=False, weather='all', v2=True, random_states=range(1, 6))"
   ]
  },
  {
   "cell_type": "code",
   "execution_count": null,
   "id": "a3cbca4e",
   "metadata": {
    "hidden": true
   },
   "outputs": [],
   "source": [
    "slope_env.applymap(np.round)"
   ]
  },
  {
   "cell_type": "code",
   "execution_count": null,
   "id": "45dd367d",
   "metadata": {
    "hidden": true
   },
   "outputs": [],
   "source": [
    "# paper fig\n",
    "for ext in ['png', 'eps']:\n",
    "    acc_by_sample_size.dn_slope_taxas_comp(ext=ext)"
   ]
  },
  {
   "cell_type": "code",
   "execution_count": null,
   "id": "c376d99e",
   "metadata": {
    "hidden": true
   },
   "outputs": [],
   "source": [
    "# paper fig\n",
    "for ext in ['png', 'eps']:\n",
    "    acc_by_sample_size.dn_dacc_slope_taxas_comp(ext=ext)"
   ]
  },
  {
   "cell_type": "code",
   "execution_count": null,
   "id": "e72b792d",
   "metadata": {
    "hidden": true
   },
   "outputs": [],
   "source": [
    "n = acc_by_sample_size.sample_size_for_accuracy_species(taxa='Penguins', common_origin_distance=True, weather=None, v2=True, random_states=range(1, 4))\n",
    "n"
   ]
  },
  {
   "cell_type": "code",
   "execution_count": null,
   "id": "340d125f",
   "metadata": {
    "hidden": true
   },
   "outputs": [],
   "source": [
    "n2 = acc_by_sample_size.sample_size_for_accuracy_species(taxa='Penguins', common_origin_distance=True, weather=None, v2=True, random_states=range(1, 4), method='logistic')\n",
    "n2"
   ]
  },
  {
   "cell_type": "code",
   "execution_count": null,
   "id": "d5f9119b",
   "metadata": {
    "hidden": true
   },
   "outputs": [],
   "source": [
    "nt = acc_by_sample_size.sample_size_for_accuracy_taxas(common_origin_distance=False, weather='all', v2=True, random_states=range(1, 6), target_accuracy=0.8)"
   ]
  },
  {
   "cell_type": "code",
   "execution_count": null,
   "id": "211b964f",
   "metadata": {
    "hidden": true
   },
   "outputs": [],
   "source": [
    "nt_co = acc_by_sample_size.sample_size_for_accuracy_taxas(common_origin_distance=True, weather=None, v2=True, random_states=range(1, 6), target_accuracy=0.8)"
   ]
  },
  {
   "cell_type": "code",
   "execution_count": null,
   "id": "30b29819",
   "metadata": {
    "hidden": true
   },
   "outputs": [],
   "source": [
    "nt"
   ]
  },
  {
   "cell_type": "code",
   "execution_count": null,
   "id": "8ed03965",
   "metadata": {
    "hidden": true
   },
   "outputs": [],
   "source": [
    "nt_co"
   ]
  },
  {
   "cell_type": "code",
   "execution_count": null,
   "id": "8eba7dad",
   "metadata": {
    "hidden": true
   },
   "outputs": [],
   "source": [
    "nt2 = acc_by_sample_size.sample_size_for_accuracy_taxas(common_origin_distance=False, weather='all', v2=True, random_states=range(1, 6), n_resamples=10000)"
   ]
  },
  {
   "cell_type": "code",
   "execution_count": null,
   "id": "df60419e",
   "metadata": {
    "hidden": true
   },
   "outputs": [],
   "source": [
    "nt = acc_by_sample_size.sample_size_for_accuracy_taxas(common_origin_distance=True, weather=None, v2=True, random_states=range(1, 4))"
   ]
  },
  {
   "cell_type": "code",
   "execution_count": null,
   "id": "d096f7a9",
   "metadata": {
    "hidden": true
   },
   "outputs": [],
   "source": [
    "n2 = acc_by_sample_size.sample_size_for_accuracy_taxas(common_origin_distance=True, weather=None, v2=True, random_states=range(1, 4), n_resamples=10000)"
   ]
  },
  {
   "cell_type": "code",
   "execution_count": null,
   "id": "d0fc4195",
   "metadata": {
    "hidden": true
   },
   "outputs": [],
   "source": [
    "n2 - nt"
   ]
  },
  {
   "cell_type": "code",
   "execution_count": null,
   "id": "c506efe0",
   "metadata": {
    "hidden": true
   },
   "outputs": [],
   "source": [
    "n2"
   ]
  },
  {
   "cell_type": "code",
   "execution_count": null,
   "id": "7c24b4d3",
   "metadata": {
    "hidden": true
   },
   "outputs": [],
   "source": [
    "S = acc_by_sample_size.acc_by_sample_size(common_origin_distance=False, weather='all', v2=True, random_states=range(1, 6))"
   ]
  },
  {
   "cell_type": "code",
   "execution_count": null,
   "id": "a19b4c40",
   "metadata": {
    "hidden": true
   },
   "outputs": [],
   "source": [
    "sm = S.applymap(len, na_action='ignore').melt()"
   ]
  },
  {
   "cell_type": "code",
   "execution_count": null,
   "id": "a4022833",
   "metadata": {
    "hidden": true
   },
   "outputs": [],
   "source": [
    "sm.isna().sum()"
   ]
  },
  {
   "cell_type": "code",
   "execution_count": null,
   "id": "827ec0d2",
   "metadata": {
    "hidden": true
   },
   "outputs": [],
   "source": [
    "acc_by_sample_size.sample_size_for_accuracy_taxas_plot(common_origin_distance=True, weather=None, v2=True, random_states=range(1,4), ciwidth=0.1)"
   ]
  },
  {
   "cell_type": "code",
   "execution_count": null,
   "id": "1badfaec",
   "metadata": {
    "hidden": true
   },
   "outputs": [],
   "source": [
    "# boot = percentile\n",
    "for spec in params.sample_size_for_acc_specs.values():\n",
    "    acc_by_sample_size.sample_size_for_accuracy_taxas_plot(**spec, ciwidth=0.1, yrange=[0, 800])\n",
    "    for taxa in tqdm(preprocessing.get_taxa_to_species().keys()):\n",
    "        try:\n",
    "            acc_by_sample_size.sample_size_for_accuracy_species_plot(taxa=taxa, v2=True, ciwidth=0.1, yrange=[0,600], **spec)\n",
    "        except:\n",
    "            continue"
   ]
  },
  {
   "cell_type": "code",
   "execution_count": null,
   "id": "94f5c17b",
   "metadata": {
    "hidden": true
   },
   "outputs": [],
   "source": [
    "func_path = 'analysis/classification_report'\n",
    "# func_path = 'nc_preprocess/env_data'\n",
    "\n",
    "pdir1 = f\"data/{func_path}/\""
   ]
  },
  {
   "cell_type": "code",
   "execution_count": null,
   "id": "0b60de8a",
   "metadata": {
    "hidden": true
   },
   "outputs": [],
   "source": [
    "specs = dict(random_states=range(1, 6), common_origin_distance=False, weather='all')\n",
    "taxas = preprocessing.get_taxa_to_species().keys()\n",
    "for taxa in tqdm(taxas):\n",
    "    acc_by_sample_size.acc_by_sample_size_plot(taxa=taxa, v2=True, xaxis_type=None, **specs)"
   ]
  },
  {
   "cell_type": "code",
   "execution_count": null,
   "id": "a1cc8d71",
   "metadata": {
    "hidden": true
   },
   "outputs": [],
   "source": [
    "S = acc_by_sample_size.acc_by_sample_size(common_origin_distance=True, weather=None, v2=True, random_states=range(1, 4))\n",
    "species = S.columns\n",
    "for s in species:\n",
    "    acc_by_sample_size.logistic_fit_plot(s, common_origin_distance=True, weather=None, v2=True, random_states=range(1, 4))"
   ]
  },
  {
   "cell_type": "code",
   "execution_count": null,
   "id": "3a1b1d6d",
   "metadata": {
    "hidden": true
   },
   "outputs": [],
   "source": [
    "\",\".join(list(species.values))"
   ]
  },
  {
   "cell_type": "code",
   "execution_count": null,
   "id": "bd7b2be6",
   "metadata": {
    "hidden": true
   },
   "outputs": [],
   "source": [
    "acc_by_sample_size.sample_size_for_accuracy_taxas_plot(common_origin_distance=False, weather='all', v2=True, random_states=range(1,6), ciwidth=0.1)"
   ]
  },
  {
   "cell_type": "code",
   "execution_count": null,
   "id": "600dcf6f",
   "metadata": {
    "hidden": true
   },
   "outputs": [],
   "source": [
    "for taxa in tqdm(preprocessing.get_taxa_to_species().keys()):\n",
    "    try:\n",
    "        acc_by_sample_size.sample_size_for_accuracy_species_plot(taxa=taxa, common_origin_distance=True, weather=None, v2=True, random_states=range(1,4), ciwidth=0.1, yrange=[0,450])\n",
    "    except:\n",
    "        continue"
   ]
  },
  {
   "cell_type": "code",
   "execution_count": null,
   "id": "b263b6b0",
   "metadata": {
    "hidden": true
   },
   "outputs": [],
   "source": [
    "phdu.delete_stdin_files()"
   ]
  },
  {
   "cell_type": "code",
   "execution_count": null,
   "id": "b47b9a88",
   "metadata": {
    "hidden": true
   },
   "outputs": [],
   "source": [
    "func_path = 'analysis/classification_report'\n",
    "# func_path = 'analysis/error_analysis_shap'\n",
    "# func_path = 'analysis/feature_importances_shap'\n",
    "# func_path = 'preprocessing/occurrences_count'\n",
    "# func_path = 'analysis/stage_clf_report'\n",
    "# func_path = 'analysis/_feature_clustering'\n",
    "# func_path = 'preprocessing/features_redundancy'\n",
    "# func_path = 'preprocessing/features_mi'\n",
    "\n",
    "pdir1 = f\"data/{func_path}/\"\n",
    "pdir2 = f\"nuredduna_programmes/data/{func_path}/\"\n",
    "files1 = set(os.listdir(pdir1))\n",
    "files2 = set(os.listdir(pdir2))\n",
    "files_not_in_dir1 = files2 - files1\n",
    "files_not_in_dir2 = files1 - files2\n",
    "\n",
    "len(files_not_in_dir2), len(files_not_in_dir1)"
   ]
  },
  {
   "cell_type": "code",
   "execution_count": null,
   "id": "1de85f54",
   "metadata": {
    "hidden": true
   },
   "outputs": [],
   "source": [
    "for file in tqdm(files_not_in_dir1): # files2:\n",
    "    orig = os.path.join(pdir2, file)\n",
    "    dest = os.path.join(pdir1, file)\n",
    "    shutil.copy(orig, dest)"
   ]
  },
  {
   "cell_type": "code",
   "execution_count": null,
   "id": "5f6b7f70",
   "metadata": {
    "hidden": true
   },
   "outputs": [],
   "source": [
    "for file in tqdm(files_not_in_dir2):\n",
    "    orig = os.path.join(pdir1, file)\n",
    "    dest = os.path.join(pdir2, file)\n",
    "    shutil.copy(orig, dest)"
   ]
  },
  {
   "cell_type": "code",
   "execution_count": null,
   "id": "9cdbb894",
   "metadata": {
    "hidden": true
   },
   "outputs": [],
   "source": [
    "for  xaxis_type in ['log', None]:\n",
    "    acc_by_sample_size.acc_by_sample_size_plot(xaxis_type=xaxis_type)"
   ]
  },
  {
   "cell_type": "code",
   "execution_count": null,
   "id": "59788e4f",
   "metadata": {
    "hidden": true
   },
   "outputs": [],
   "source": [
    "acc_by_sample_size.transfer_accuracy_diff()"
   ]
  },
  {
   "cell_type": "code",
   "execution_count": null,
   "id": "b124201a",
   "metadata": {
    "hidden": true
   },
   "outputs": [],
   "source": [
    "acc_by_sample_size.transfer_accuracy_regression() * 100"
   ]
  },
  {
   "cell_type": "code",
   "execution_count": null,
   "id": "549a7cd9",
   "metadata": {
    "hidden": true
   },
   "outputs": [],
   "source": [
    "acc_by_sample_size.transfer_accuracy_corr(corr='spearman')"
   ]
  },
  {
   "cell_type": "code",
   "execution_count": null,
   "id": "d7557a83",
   "metadata": {
    "hidden": true
   },
   "outputs": [],
   "source": [
    "acc_by_sample_size.transfer_accuracy_corr(corr='pearson')"
   ]
  },
  {
   "cell_type": "code",
   "execution_count": null,
   "id": "fbcce71b",
   "metadata": {
    "hidden": true
   },
   "outputs": [],
   "source": [
    "S = acc_by_sample_size.acc_by_sample_size()"
   ]
  },
  {
   "cell_type": "code",
   "execution_count": null,
   "id": "dfba6b55",
   "metadata": {
    "hidden": true
   },
   "outputs": [],
   "source": [
    "S2 = acc_by_sample_size.acc_by_sample_size(mode='others', acc_type='taxa')\n",
    "mu = S2.applymap(np.mean)\n",
    "x = np.array(S.loc[100, \"Loggerhead turtle\"])\n",
    "print(x.mean(), x.std())\n",
    "from numba import njit\n",
    "@njit\n",
    "def nb_mean(x):\n",
    "    return x.mean()\n",
    "bootstrap.CI_percentile(x, nb_mean)"
   ]
  },
  {
   "cell_type": "code",
   "execution_count": null,
   "id": "0f01f547",
   "metadata": {
    "hidden": true
   },
   "outputs": [],
   "source": [
    "kws = dict(classifier = 'inception',\n",
    "           overwrite = False,\n",
    "           random_state = 1,\n",
    "           common_origin_distance = False,\n",
    "           weather = 'all',\n",
    "           scale_by_velocity = False,\n",
    "           to_origin = None,\n",
    "           as_image = False,\n",
    "           as_image_density = False,\n",
    "           as_image_indiv_scaling = False,\n",
    "           remove_outliers = True,\n",
    "           min_animals = 5,\n",
    "           minlen = 5,\n",
    "           get_prunning_function = preprocessing.get_trajectory_deleter,\n",
    "           prunning_kws = {'species': 'Loggerhead turtle', 'taxa': None, 'percentage': None, 'N': 5, 'random_state': 1, 'mode': 'specific'},\n",
    "           use_kfold = True,\n",
    "           n_splits = 5)"
   ]
  },
  {
   "cell_type": "code",
   "execution_count": null,
   "id": "0ba43ae4",
   "metadata": {
    "hidden": true
   },
   "outputs": [],
   "source": [
    "df = analysis.classification_report(**kws)"
   ]
  },
  {
   "cell_type": "markdown",
   "id": "05c57899",
   "metadata": {
    "heading_collapsed": true
   },
   "source": [
    "# Accuracy by complexity"
   ]
  },
  {
   "cell_type": "code",
   "execution_count": null,
   "id": "f66b4679",
   "metadata": {
    "hidden": true
   },
   "outputs": [],
   "source": [
    "# paper fig\n",
    "for ext in ['png', 'eps']:\n",
    "    for density in [True, False]:\n",
    "        data_visualization.trajectory_img(ext=ext, density=density, df=df)"
   ]
  },
  {
   "cell_type": "code",
   "execution_count": null,
   "id": "5c8608c9",
   "metadata": {
    "hidden": true
   },
   "outputs": [],
   "source": [
    "# paper fig\n",
    "for ext in ['png', 'eps']:\n",
    "    for lines in [True, False]:\n",
    "        data_visualization.trajectory_common_origin(ext=ext, lines=lines, df=df)"
   ]
  },
  {
   "cell_type": "code",
   "execution_count": null,
   "id": "ac2e69d4",
   "metadata": {
    "hidden": true
   },
   "outputs": [],
   "source": [
    "# paper fig\n",
    "for ext in ['png', 'eps']:\n",
    "    acc_by_complexity.acc_by_complexity_plot(ext=ext)"
   ]
  },
  {
   "cell_type": "code",
   "execution_count": null,
   "id": "a66a5986",
   "metadata": {
    "hidden": true
   },
   "outputs": [],
   "source": [
    "H, P, P_OBS, P_EXP = acc_by_complexity.accuracy_mantained_with_complexity_summary()"
   ]
  },
  {
   "cell_type": "code",
   "execution_count": null,
   "id": "d0eebb4f",
   "metadata": {
    "hidden": true
   },
   "outputs": [],
   "source": [
    "index = H.index\n",
    "index_new = [l.replace('_', ' ').capitalize().replace('Common origin', 'C.O.').replace('2d','2D') for l in index]\n",
    "columns = H.columns\n",
    "columns_new = [l.replace('_', ' ').capitalize().replace('Common origin', 'C.O.').replace('2d','2D') for l in columns]\n",
    "def format(df, rounding=1):\n",
    "    df.columns = columns_new\n",
    "    df.index = index_new\n",
    "    return df.round(rounding).astype(str).replace('nan', '')"
   ]
  },
  {
   "cell_type": "code",
   "execution_count": null,
   "id": "ed939178",
   "metadata": {
    "hidden": true
   },
   "outputs": [],
   "source": [
    "phdu.pd_utils.latex_table(format(P_OBS, 2).iloc[:, 1:], index=True)"
   ]
  },
  {
   "cell_type": "code",
   "execution_count": null,
   "id": "68d72ff2",
   "metadata": {
    "hidden": true
   },
   "outputs": [],
   "source": [
    "phdu.pd_utils.latex_table(format(H, 2).iloc[:,1:], index=True)"
   ]
  },
  {
   "cell_type": "code",
   "execution_count": null,
   "id": "a9398cf2",
   "metadata": {
    "hidden": true
   },
   "outputs": [],
   "source": [
    "df = acc_by_complexity.load_clf_report(clf='InceptionTime', scale_by_velocity=False, random_state=1, min_animals=10, minlen=20, as_image=False, as_image_density=False, as_image_indiv_scaling=False, remove_outliers=True, num_iter=None)"
   ]
  },
  {
   "cell_type": "code",
   "execution_count": null,
   "id": "a9bd9367",
   "metadata": {
    "hidden": true
   },
   "outputs": [],
   "source": [
    "df"
   ]
  },
  {
   "cell_type": "markdown",
   "id": "315d2c8f",
   "metadata": {
    "hidden": true
   },
   "source": [
    "## Random choice (expected value)"
   ]
  },
  {
   "cell_type": "code",
   "execution_count": null,
   "id": "e36321cd",
   "metadata": {
    "hidden": true
   },
   "outputs": [],
   "source": [
    "acc_by_complexity.random_choice_expected_value()"
   ]
  },
  {
   "cell_type": "code",
   "execution_count": null,
   "id": "b0aacf81",
   "metadata": {
    "hidden": true
   },
   "outputs": [],
   "source": [
    "acc_by_complexity.random_choice_expected_value(v2=False)"
   ]
  },
  {
   "cell_type": "markdown",
   "id": "ad1ce1c9",
   "metadata": {
    "hidden": true
   },
   "source": [
    "## Blind choice (most frequent class)"
   ]
  },
  {
   "cell_type": "code",
   "execution_count": null,
   "id": "06f540b8",
   "metadata": {
    "hidden": true
   },
   "outputs": [],
   "source": [
    "acc_by_complexity.blind_accuracy()"
   ]
  },
  {
   "cell_type": "code",
   "execution_count": null,
   "id": "967ae6c2",
   "metadata": {
    "hidden": true
   },
   "outputs": [],
   "source": [
    "acc_by_complexity.blind_accuracy(v2=False)"
   ]
  },
  {
   "cell_type": "markdown",
   "id": "e5cdf0ee",
   "metadata": {
    "hidden": true
   },
   "source": [
    "## Common origin (2D picture, rescaled velocity)"
   ]
  },
  {
   "cell_type": "code",
   "execution_count": null,
   "id": "7f324888",
   "metadata": {
    "hidden": true
   },
   "outputs": [],
   "source": [
    "acc_by_complexity.common_origin_acc_v1(scale_by_velocity=True, as_image=True, num_iter=2)"
   ]
  },
  {
   "cell_type": "code",
   "execution_count": null,
   "id": "546b8b9b",
   "metadata": {
    "hidden": true
   },
   "outputs": [],
   "source": [
    "acc = acc_by_complexity.common_origin_acc_v2(scale_by_velocity=True, as_image=True)"
   ]
  },
  {
   "cell_type": "code",
   "execution_count": null,
   "id": "eae602d3",
   "metadata": {
    "hidden": true
   },
   "outputs": [],
   "source": [
    "acc.mean(), acc.std()"
   ]
  },
  {
   "cell_type": "code",
   "execution_count": null,
   "id": "d1652a58",
   "metadata": {
    "hidden": true
   },
   "outputs": [],
   "source": [
    "[f for f in os.listdir(\"utils/data/classification_report/InceptionTime\") if \"density\" in f]"
   ]
  },
  {
   "cell_type": "markdown",
   "id": "ce86cc42",
   "metadata": {
    "hidden": true
   },
   "source": [
    "## Common origin (2D occupancy, rescaled velocity)"
   ]
  },
  {
   "cell_type": "code",
   "execution_count": null,
   "id": "4ddfb104",
   "metadata": {
    "hidden": true
   },
   "outputs": [],
   "source": [
    "acc_by_complexity.common_origin_acc_v1(scale_by_velocity=False, as_image=True, num_iter=2, as_image_density=True)"
   ]
  },
  {
   "cell_type": "code",
   "execution_count": null,
   "id": "1c169765",
   "metadata": {
    "hidden": true
   },
   "outputs": [],
   "source": [
    "acc = acc_by_complexity.common_origin_acc_v2(scale_by_velocity=True, as_image=True, as_image_density=True)"
   ]
  },
  {
   "cell_type": "code",
   "execution_count": null,
   "id": "2eb1d36a",
   "metadata": {
    "hidden": true
   },
   "outputs": [],
   "source": [
    "acc.mean(), acc.std()"
   ]
  },
  {
   "cell_type": "markdown",
   "id": "551620c9",
   "metadata": {
    "hidden": true
   },
   "source": [
    "## Common origin (point estimation)"
   ]
  },
  {
   "cell_type": "code",
   "execution_count": null,
   "id": "52647c89",
   "metadata": {
    "hidden": true
   },
   "outputs": [],
   "source": [
    "acc = acc_by_complexity.common_origin_acc_v2(scale_by_velocity=True, as_image=False, as_image_density=False, classifier='xgb')\n",
    "acc.mean()"
   ]
  },
  {
   "cell_type": "code",
   "execution_count": null,
   "id": "a75bebaa",
   "metadata": {
    "hidden": true
   },
   "outputs": [],
   "source": [
    "acc = acc_by_complexity.common_origin_acc_v2(scale_by_velocity=False, as_image=False, as_image_density=False, classifier='xgb')\n",
    "acc.mean()"
   ]
  },
  {
   "cell_type": "markdown",
   "id": "15595b20",
   "metadata": {
    "hidden": true
   },
   "source": [
    "## Common origin (rescaled velocity)"
   ]
  },
  {
   "cell_type": "code",
   "execution_count": null,
   "id": "7538e6fb",
   "metadata": {
    "hidden": true
   },
   "outputs": [],
   "source": [
    "acc_by_complexity.common_origin_acc_v1(scale_by_velocity=True, num_iter=1)"
   ]
  },
  {
   "cell_type": "code",
   "execution_count": null,
   "id": "00449b26",
   "metadata": {
    "hidden": true
   },
   "outputs": [],
   "source": [
    "acc = acc_by_complexity.common_origin_acc_v2(scale_by_velocity=True)"
   ]
  },
  {
   "cell_type": "code",
   "execution_count": null,
   "id": "7a4eb683",
   "metadata": {
    "hidden": true
   },
   "outputs": [],
   "source": [
    "acc.mean()"
   ]
  },
  {
   "cell_type": "markdown",
   "id": "7942a053",
   "metadata": {
    "hidden": true
   },
   "source": [
    "## Common origin"
   ]
  },
  {
   "cell_type": "code",
   "execution_count": null,
   "id": "dabe098c",
   "metadata": {
    "hidden": true
   },
   "outputs": [],
   "source": [
    "acc_by_complexity.common_origin_acc_v1(scale_by_velocity=False, num_iter=1)"
   ]
  },
  {
   "cell_type": "code",
   "execution_count": null,
   "id": "f169b925",
   "metadata": {
    "hidden": true
   },
   "outputs": [],
   "source": [
    "acc = acc_by_complexity.common_origin_acc_v2(scale_by_velocity=False)\n",
    "acc.mean()"
   ]
  },
  {
   "cell_type": "markdown",
   "id": "754629c1",
   "metadata": {
    "hidden": true
   },
   "source": [
    "## Geographical coordinates"
   ]
  },
  {
   "cell_type": "code",
   "execution_count": null,
   "id": "fd367279",
   "metadata": {
    "hidden": true
   },
   "outputs": [],
   "source": [
    "acc = acc_by_complexity.acc_v2()\n",
    "acc.mean()"
   ]
  },
  {
   "cell_type": "markdown",
   "id": "13a63014",
   "metadata": {
    "hidden": true
   },
   "source": [
    "## Geographical coordinates + environmental variables"
   ]
  },
  {
   "cell_type": "code",
   "execution_count": null,
   "id": "c9d75ef6",
   "metadata": {
    "hidden": true
   },
   "outputs": [],
   "source": [
    "acc = acc_by_complexity.acc_v2(weather='all')\n",
    "acc.mean()"
   ]
  },
  {
   "cell_type": "code",
   "execution_count": null,
   "id": "5c13f1ab",
   "metadata": {
    "hidden": true
   },
   "outputs": [],
   "source": [
    "acc = acc_by_complexity.acc_v2(weather='all-depth')\n",
    "acc.mean()"
   ]
  },
  {
   "cell_type": "markdown",
   "id": "1fbb135a",
   "metadata": {
    "heading_collapsed": true
   },
   "source": [
    "# Feature importance"
   ]
  },
  {
   "cell_type": "code",
   "execution_count": null,
   "id": "f9ac1626",
   "metadata": {
    "hidden": true
   },
   "outputs": [],
   "source": [
    "cluster, labels = tidypath.storage.load_lzma(\"data/analysis/_feature_clustering/N-taxa-None_magnitude-loss_.lzma\")"
   ]
  },
  {
   "cell_type": "code",
   "execution_count": null,
   "id": "e4ecdd3a",
   "metadata": {
    "hidden": true
   },
   "outputs": [],
   "source": [
    "from scipy.cluster import hierarchy\n",
    "# plot\n",
    "fig = plt.figure(figsize=(25, 10))\n",
    "dn = hierarchy.dendrogram(cluster, labels=labels, leaf_font_size=24, leaf_rotation=90)\n",
    "plt.savefig('ex.png')"
   ]
  },
  {
   "cell_type": "code",
   "execution_count": null,
   "id": "cc03d6ad",
   "metadata": {
    "hidden": true
   },
   "outputs": [],
   "source": [
    "cluster_ID = analysis.feature_clustering(magnitude='loss', height=0.1)\n",
    "cluster_ID"
   ]
  },
  {
   "cell_type": "code",
   "execution_count": null,
   "id": "7157d22e",
   "metadata": {
    "hidden": true
   },
   "outputs": [],
   "source": [
    "for micro in [None, 'species', 'taxa']:\n",
    "    analysis.feature_importance_setting_comparison(micro=micro)"
   ]
  },
  {
   "cell_type": "code",
   "execution_count": null,
   "id": "49fa4ab5",
   "metadata": {
    "hidden": true
   },
   "outputs": [],
   "source": [
    "# paper fig\n",
    "for ext in ['png', 'eps']:\n",
    "    analysis.feature_importance_setting_comparison(ext=ext)"
   ]
  },
  {
   "cell_type": "code",
   "execution_count": null,
   "id": "ca14230c",
   "metadata": {
    "hidden": true
   },
   "outputs": [],
   "source": [
    "for d in settings.values():\n",
    "    analysis.feature_importances_shap_abs_plot(**d)"
   ]
  },
  {
   "cell_type": "code",
   "execution_count": null,
   "id": "9afdeee6",
   "metadata": {
    "hidden": true
   },
   "outputs": [],
   "source": [
    "for reference in ['dataset', 'sample']:\n",
    "    analysis.feature_importances_taxa_all(reference=reference)"
   ]
  },
  {
   "cell_type": "code",
   "execution_count": null,
   "id": "90a416ef",
   "metadata": {
    "hidden": true
   },
   "outputs": [],
   "source": [
    "# paper fig\n",
    "for ext in ['pdf']: #, 'svg']:\n",
    "    analysis.feature_importances_taxa_all(ext=ext, reference='dataset')"
   ]
  },
  {
   "cell_type": "code",
   "execution_count": null,
   "id": "36c5f702",
   "metadata": {
    "hidden": true
   },
   "outputs": [],
   "source": [
    "# paper fig\n",
    "analysis.feature_importances_diff_taxa_all(xlims=(-1, 1), ext='pdf')"
   ]
  },
  {
   "cell_type": "markdown",
   "id": "da412a28",
   "metadata": {
    "heading_collapsed": true
   },
   "source": [
    "# Error analysis"
   ]
  },
  {
   "cell_type": "code",
   "execution_count": null,
   "id": "ce51e92f",
   "metadata": {
    "hidden": true
   },
   "outputs": [],
   "source": [
    "analysis.tracking_device_effect_in_acc(alpha=0.1)"
   ]
  },
  {
   "cell_type": "code",
   "execution_count": null,
   "id": "ac57c1e9",
   "metadata": {
    "hidden": true
   },
   "outputs": [],
   "source": [
    "dataset, target = analysis.error_analysis_dataset(v2=True, weather='all', common_origin_distance=False, random_states=range(1,6))"
   ]
  },
  {
   "cell_type": "code",
   "execution_count": null,
   "id": "79f09f4f",
   "metadata": {
    "hidden": true
   },
   "outputs": [],
   "source": [
    "species_to_taxa = preprocessing.get_species_to_taxa()\n",
    "df['Taxa-predicted'] = df['Predicted'].apply(lambda x: species_to_taxa[x])\n",
    "taxa_to_idx = {taxa: i for i, taxa in enumerate(df['Taxa'].unique())}\n",
    "idx_to_taxa = {i: taxa for taxa, i in taxa_to_idx.items()}"
   ]
  },
  {
   "cell_type": "code",
   "execution_count": null,
   "id": "6bdff788",
   "metadata": {
    "hidden": true
   },
   "outputs": [],
   "source": [
    "from sklearn.metrics import confusion_matrix\n",
    "y = df['Taxa'].apply(lambda x: taxa_to_idx[x])\n",
    "y_pred = df['Taxa-predicted'].apply(lambda x: taxa_to_idx[x])\n",
    "\n",
    "confusion_matrix_df = pd.DataFrame(confusion_matrix(y, y_pred, normalize=\"true\")).rename(columns=idx_to_taxa, index=idx_to_taxa)"
   ]
  },
  {
   "cell_type": "code",
   "execution_count": null,
   "id": "989a4ea2",
   "metadata": {
    "hidden": true
   },
   "outputs": [],
   "source": [
    "confusion_matrix_df, categories = analysis.compute_confusion_matrix(df=df, artificial_trajectory=[], cols=['Taxa'])"
   ]
  },
  {
   "cell_type": "code",
   "execution_count": null,
   "id": "550f438b",
   "metadata": {
    "hidden": true
   },
   "outputs": [],
   "source": [
    "cm_taxa = confusion_matrix_df.copy()"
   ]
  },
  {
   "cell_type": "code",
   "execution_count": null,
   "id": "9e690cc1",
   "metadata": {
    "hidden": true
   },
   "outputs": [],
   "source": [
    "idx = pd.MultiIndex.from_arrays(([species_to_taxa[species] for species in cm_taxa.index], cm_taxa.index))\n",
    "cm_taxa.index = idx\n",
    "cm_taxa.columns = idx"
   ]
  },
  {
   "cell_type": "code",
   "execution_count": null,
   "id": "ce1dee98",
   "metadata": {
    "hidden": true
   },
   "outputs": [],
   "source": [
    "cm_taxa.groupby(level=0, axis=0).apply(lambda x: x.groupby(level=0, axis=1).sum().mean())"
   ]
  },
  {
   "cell_type": "code",
   "execution_count": null,
   "id": "e21b0eb5",
   "metadata": {
    "hidden": true
   },
   "outputs": [],
   "source": [
    "cm_taxa.loc['Birds', 'Birds'].sum(axis=1).mean()"
   ]
  },
  {
   "cell_type": "code",
   "execution_count": null,
   "id": "13096fb6",
   "metadata": {
    "hidden": true
   },
   "outputs": [],
   "source": [
    "fig = data_visualization.confusion_matrix(df=df, artificial_trajectory=[], save=False)\n",
    "fig.write_image(\"ex.png\")"
   ]
  },
  {
   "cell_type": "code",
   "execution_count": null,
   "id": "030e95b7",
   "metadata": {
    "hidden": true
   },
   "outputs": [],
   "source": [
    "df.groupby('Tag').apply(lambda S: (S.Prediction == 'Correct').mean())"
   ]
  },
  {
   "cell_type": "code",
   "execution_count": null,
   "id": "7a455733",
   "metadata": {
    "hidden": true
   },
   "outputs": [],
   "source": [
    "df.groupby(['COMMON_NAME', 'Tag']).apply(lambda S: (S.Prediction == 'Correct').mean()).groupby('Tag').mean()"
   ]
  },
  {
   "cell_type": "code",
   "execution_count": null,
   "id": "cc2fa263",
   "metadata": {
    "hidden": true
   },
   "outputs": [],
   "source": []
  },
  {
   "cell_type": "code",
   "execution_count": null,
   "id": "2a0c7f49",
   "metadata": {
    "hidden": true
   },
   "outputs": [],
   "source": [
    "dataset = preprocessing.trajectory_complementary_data(v2=True, weather=None)"
   ]
  },
  {
   "cell_type": "code",
   "execution_count": null,
   "id": "b14b9903",
   "metadata": {
    "hidden": true
   },
   "outputs": [],
   "source": [
    "for stratify in [True, False]:\n",
    "    analysis.error_analysis_shap_plot(v2=True, weather=None, common_origin_distance=True, random_states=range(1,4), stratify=stratify)"
   ]
  },
  {
   "cell_type": "code",
   "execution_count": null,
   "id": "657b1d10",
   "metadata": {
    "hidden": true
   },
   "outputs": [],
   "source": [
    "for stratify in [True, False]:\n",
    "    analysis.error_analysis_shap_plot(v2=True, weather='all', common_origin_distance=False, random_states=range(1,4), stratify=stratify)"
   ]
  },
  {
   "cell_type": "code",
   "execution_count": null,
   "id": "ed2f39cb",
   "metadata": {
    "hidden": true
   },
   "outputs": [],
   "source": [
    "analysis.corr_with_accuracy_plot(v2=True, weather='all', common_origin_distance=False, random_states=range(1,6), height=1800)"
   ]
  },
  {
   "cell_type": "code",
   "execution_count": null,
   "id": "5e3e1e23",
   "metadata": {
    "hidden": true
   },
   "outputs": [],
   "source": [
    "c = analysis.corr_with_accuracy_micro(v2=True, weather='all', common_origin_distance=False, random_states=range(1,6))"
   ]
  },
  {
   "cell_type": "code",
   "execution_count": null,
   "id": "4b67482b",
   "metadata": {
    "hidden": true
   },
   "outputs": [],
   "source": [
    "for feature in ['mean effort', 'mean SST anomaly']:\n",
    "    analysis.corr_with_accuracy_micro_feature_plot(feature, v2=True, weather='all', common_origin_distance=False, random_states=range(1,6))\n",
    "    analysis.corr_with_accuracy_micro_feature_plot(feature, v2=True, weather=None, common_origin_distance=True, random_states=range(1,4))"
   ]
  },
  {
   "cell_type": "code",
   "execution_count": null,
   "id": "abe554f2",
   "metadata": {
    "hidden": true
   },
   "outputs": [],
   "source": [
    "analysis.corr_with_accuracy_micro_plot(v2=True, weather='all', common_origin_distance=False, random_states=range(1, 6), height=1800)"
   ]
  },
  {
   "cell_type": "code",
   "execution_count": null,
   "id": "9048ea0b",
   "metadata": {
    "hidden": true
   },
   "outputs": [],
   "source": [
    "analysis.corr_with_accuracy_plot(v2=True, weather=None, common_origin_distance=True, random_states=range(1,4), height=1800)"
   ]
  },
  {
   "cell_type": "code",
   "execution_count": null,
   "id": "dca2beda",
   "metadata": {
    "hidden": true
   },
   "outputs": [],
   "source": [
    "analysis.corr_with_accuracy_micro_plot(v2=True, weather=None, common_origin_distance=True, random_states=range(1,4), height=1800)"
   ]
  },
  {
   "cell_type": "code",
   "execution_count": null,
   "id": "9c6abfa8",
   "metadata": {
    "hidden": true
   },
   "outputs": [],
   "source": [
    "errors = analysis.error_analysis_shap_performance(v2=True, weather='all', common_origin_distance=False, random_states=range(1,4), stratify=True)\n",
    "improvement = errors['error'] / errors['error_baseline'] - 1\n",
    "improvement, errors"
   ]
  },
  {
   "cell_type": "code",
   "execution_count": null,
   "id": "35797484",
   "metadata": {
    "hidden": true
   },
   "outputs": [],
   "source": [
    "errors = analysis.error_analysis_shap_performance(v2=True, weather=None, common_origin_distance=True, random_states=range(1,4), stratify=True)\n",
    "improvement = errors['error'] / errors['error_baseline'] - 1\n",
    "improvement, errors"
   ]
  },
  {
   "cell_type": "code",
   "execution_count": null,
   "id": "7f757574",
   "metadata": {
    "hidden": true
   },
   "outputs": [],
   "source": [
    "dataset, target = analysis.error_analysis_dataset(v2=True, weather=None, common_origin_distance=True, random_states=range(1,6))"
   ]
  },
  {
   "cell_type": "code",
   "execution_count": null,
   "id": "e3514bfb",
   "metadata": {
    "hidden": true
   },
   "outputs": [],
   "source": [
    "dataset, target = analysis.error_analysis_dataset(v2=True, weather='all', common_origin_distance=False, random_states=range(1,6))"
   ]
  },
  {
   "cell_type": "code",
   "execution_count": null,
   "id": "1e47a9b0",
   "metadata": {
    "hidden": true
   },
   "outputs": [],
   "source": [
    "corr_micro = analysis.corr_with_accuracy_micro()"
   ]
  },
  {
   "cell_type": "code",
   "execution_count": null,
   "id": "3b6a9583",
   "metadata": {
    "hidden": true
   },
   "outputs": [],
   "source": [
    "corr_micro.notna().sum().sort_values()"
   ]
  },
  {
   "cell_type": "code",
   "execution_count": null,
   "id": "eab01670",
   "metadata": {
    "hidden": true
   },
   "outputs": [],
   "source": [
    "corr_micro.mean().sort_values()"
   ]
  },
  {
   "cell_type": "code",
   "execution_count": null,
   "id": "b64c1c3f",
   "metadata": {
    "hidden": true
   },
   "outputs": [],
   "source": [
    "data = analysis.error_analysis_shap(v2=True, weather='all', common_origin_distance=False, random_states=range(1,6))"
   ]
  },
  {
   "cell_type": "code",
   "execution_count": null,
   "id": "5cab3a7e",
   "metadata": {
    "hidden": true
   },
   "outputs": [],
   "source": [
    "t1 = time()\n",
    "shap_values = explainer.shap_values(test_data.values[:20])\n",
    "t2 = time()\n",
    "print(t2-t1)"
   ]
  },
  {
   "cell_type": "code",
   "execution_count": null,
   "id": "376d2298",
   "metadata": {
    "hidden": true
   },
   "outputs": [],
   "source": [
    "shap.summary_plot(shap_values, test_data.values[:100], feature_names=dataset.columns)"
   ]
  },
  {
   "cell_type": "code",
   "execution_count": null,
   "id": "c643140a",
   "metadata": {
    "hidden": true
   },
   "outputs": [],
   "source": [
    "def rmse(predictions, targets):\n",
    "    return np.sqrt(((predictions - targets) ** 2).mean())\n",
    "predictions = tree.predict(test_data.values)\n",
    "baseline = np.ones((test_target.size))\n",
    "error = rmse(predictions, test_target.values)\n",
    "baseline_error = rmse(baseline, test_target.values)\n",
    "error, baseline_error"
   ]
  },
  {
   "cell_type": "code",
   "execution_count": null,
   "id": "1e140fdb",
   "metadata": {
    "hidden": true
   },
   "outputs": [],
   "source": [
    "tree.score"
   ]
  },
  {
   "cell_type": "code",
   "execution_count": null,
   "id": "54d0da37",
   "metadata": {
    "hidden": true
   },
   "outputs": [],
   "source": [
    "tree.score(train_data.values, train_target.values), tree.score(test_data.values, test_target.values)"
   ]
  },
  {
   "cell_type": "code",
   "execution_count": null,
   "id": "0dd2c239",
   "metadata": {
    "hidden": true
   },
   "outputs": [],
   "source": [
    "tree.feature_importances_"
   ]
  },
  {
   "cell_type": "code",
   "execution_count": null,
   "id": "54df3bca",
   "metadata": {
    "hidden": true
   },
   "outputs": [],
   "source": [
    "train_data.columns[np.argsort(tree.feature_importances_)[::-1]]"
   ]
  },
  {
   "cell_type": "code",
   "execution_count": null,
   "id": "76bbe2fb",
   "metadata": {
    "hidden": true
   },
   "outputs": [],
   "source": [
    "dtrain = xgb.DMatrix(train_data, label=train_target)\n",
    "\n",
    "# Define the XGBoost parameters for regression\n",
    "params = {\n",
    "    'objective': 'reg:logistic',\n",
    "    'eval_metric': 'rmse',\n",
    "    'eta': 0.1,\n",
    "    'max_depth': 10,\n",
    "}"
   ]
  },
  {
   "cell_type": "code",
   "execution_count": null,
   "id": "3300e513",
   "metadata": {
    "hidden": true
   },
   "outputs": [],
   "source": [
    "model = xgb.train(params, dtrain, num_boost_round=50)"
   ]
  },
  {
   "cell_type": "code",
   "execution_count": null,
   "id": "666c1eea",
   "metadata": {
    "hidden": true
   },
   "outputs": [],
   "source": [
    "dtest = xgb.DMatrix(test_data, label=test_target)\n",
    "predictions = model.predict(dtest)"
   ]
  },
  {
   "cell_type": "code",
   "execution_count": null,
   "id": "174c745a",
   "metadata": {
    "hidden": true
   },
   "outputs": [],
   "source": [
    "error = rmse(predictions, test_target.values)\n",
    "error_base = rmse(np.ones((test_target.size)), test_target.values)\n",
    "error, error_base"
   ]
  },
  {
   "cell_type": "code",
   "execution_count": null,
   "id": "155d4d2c",
   "metadata": {
    "hidden": true
   },
   "outputs": [],
   "source": [
    "error, error_base"
   ]
  },
  {
   "cell_type": "code",
   "execution_count": null,
   "id": "53d2937d",
   "metadata": {
    "hidden": true
   },
   "outputs": [],
   "source": [
    "predictions.max(), predictions.min()"
   ]
  },
  {
   "cell_type": "code",
   "execution_count": null,
   "id": "4cb784a8",
   "metadata": {
    "hidden": true
   },
   "outputs": [],
   "source": [
    "(predictions == test_target.values).mean(), test_target.mean()"
   ]
  },
  {
   "cell_type": "code",
   "execution_count": null,
   "id": "0a155468",
   "metadata": {
    "hidden": true
   },
   "outputs": [],
   "source": [
    "f1_score(test_target.values, predictions), f1_score(test_target.values, np.ones(test_target.size))"
   ]
  },
  {
   "cell_type": "code",
   "execution_count": null,
   "id": "cfc1b7e8",
   "metadata": {
    "hidden": true
   },
   "outputs": [],
   "source": [
    "pd.Series(predictions).value_counts(normalize=True), test_target.value_counts(normalize=True)"
   ]
  },
  {
   "cell_type": "code",
   "execution_count": null,
   "id": "41d2d4e2",
   "metadata": {
    "hidden": true
   },
   "outputs": [],
   "source": [
    "target.name = 'Accuracy'\n",
    "full_dataset = pd.concat([dataset, target], axis=1)"
   ]
  },
  {
   "cell_type": "code",
   "execution_count": null,
   "id": "31251e5c",
   "metadata": {
    "hidden": true
   },
   "outputs": [],
   "source": [
    "full_dataset.corr('spearman')['Accuracy'].sort_values(ascending=False).iloc[1:]"
   ]
  },
  {
   "cell_type": "code",
   "execution_count": null,
   "id": "5e3997cb",
   "metadata": {
    "hidden": true
   },
   "outputs": [],
   "source": [
    "df.value_counts(['Tag', 'Taxa'])"
   ]
  },
  {
   "cell_type": "code",
   "execution_count": null,
   "id": "13bc2684",
   "metadata": {
    "hidden": true
   },
   "outputs": [],
   "source": [
    "from sklearn.metrics import classification_report\n",
    "species = df.COMMON_NAME.values\n",
    "predicted = df.Predicted.values\n",
    "\n",
    "acc_data = classification_report(species, predicted, output_dict=True)\n",
    "acc_data = pd.DataFrame(acc_data).transpose()"
   ]
  },
  {
   "cell_type": "code",
   "execution_count": null,
   "id": "9531f6b5",
   "metadata": {
    "hidden": true
   },
   "outputs": [],
   "source": [
    "acc_data.corr('spearman')"
   ]
  },
  {
   "cell_type": "markdown",
   "id": "f19ff032",
   "metadata": {
    "hidden": true
   },
   "source": [
    "## Quantify how hard the classification is (#obs same species / #obs different species)"
   ]
  },
  {
   "cell_type": "code",
   "execution_count": null,
   "id": "ad02f033",
   "metadata": {
    "hidden": true
   },
   "outputs": [],
   "source": [
    "kws = {'weather': 'coast-d+bathymetry', 'pad_day_rate': 1, 'common_origin_distance': False, 'delete_features': ['cos t', 'sin t'], 'model': 'inception', 'nf': 32, 'overwrite': False, 'invert_lat': True}\n",
    "for species_train in tqdm(params.stage_species_v2):\n",
    "    print(f\"Species: {species_train}\")\n",
    "    df, dft = analysis.stage_clf_report(species_train=species_train, **kws)"
   ]
  },
  {
   "cell_type": "code",
   "execution_count": null,
   "id": "5eba52c8",
   "metadata": {
    "hidden": true
   },
   "outputs": [],
   "source": [
    "for weather in [None, 'all']:\n",
    "    analysis.overlap_vs_acc_plot(weather=weather)"
   ]
  },
  {
   "cell_type": "markdown",
   "id": "3056b69f",
   "metadata": {
    "hidden": true
   },
   "source": [
    "## SHAP values for predicting accuracy (trajectory level)"
   ]
  },
  {
   "cell_type": "code",
   "execution_count": null,
   "id": "aff456a9",
   "metadata": {
    "hidden": true
   },
   "outputs": [],
   "source": [
    "data = analysis.error_analysis_shap(weather='all', model='xgboost', exclude_cols=0.3)\n",
    "data['test_data'][0].columns"
   ]
  },
  {
   "cell_type": "code",
   "execution_count": null,
   "id": "365e63d5",
   "metadata": {
    "hidden": true
   },
   "outputs": [],
   "source": []
  },
  {
   "cell_type": "code",
   "execution_count": null,
   "id": "bfd1c45e",
   "metadata": {
    "hidden": true
   },
   "outputs": [],
   "source": [
    "def tune_exclude_cols(**kwargs):\n",
    "    candidates = np.hstack((0.4, np.linspace(0, 0.6, 15)))\n",
    "    result = {}\n",
    "    for exclude_cols in tqdm(candidates):\n",
    "        p = analysis.error_analysis_shap_performance(**kwargs, exclude_cols=exclude_cols)\n",
    "        result[exclude_cols] = 1 - (p['error'] / p['error_baseline'])\n",
    "    return pd.Series(result)"
   ]
  },
  {
   "cell_type": "code",
   "execution_count": null,
   "id": "2fcb5df5",
   "metadata": {
    "hidden": true
   },
   "outputs": [],
   "source": [
    "best = tune_exclude_cols(weather='all', model='xgboost', species_level=False).sort_values(ascending=False)"
   ]
  },
  {
   "cell_type": "code",
   "execution_count": null,
   "id": "7608b8f1",
   "metadata": {
    "hidden": true
   },
   "outputs": [],
   "source": [
    "best"
   ]
  },
  {
   "cell_type": "code",
   "execution_count": null,
   "id": "aa651369",
   "metadata": {
    "hidden": true
   },
   "outputs": [],
   "source": [
    "# paper fig\n",
    "for ext in ['png', 'svg']:\n",
    "    analysis.error_analysis_shap_plot(weather='all', model='xgboost', exclude_cols=0.342857, ext=ext)\n",
    "\n",
    "# paper fig\n",
    "for ext in ['png', 'svg']:\n",
    "    analysis.error_analysis_shap_plot(weather='all', model='xgboost', exclude_cols=0.4, ext=ext, max_display=8)"
   ]
  },
  {
   "cell_type": "code",
   "execution_count": null,
   "id": "b6c6c82f",
   "metadata": {
    "hidden": true
   },
   "outputs": [],
   "source": [
    "fig = analysis.error_analysis_shap_plot(weather='all', model='xgboost', exclude_cols=0.4, max_display=8, return_fig=True)"
   ]
  },
  {
   "cell_type": "code",
   "execution_count": null,
   "id": "07f24811",
   "metadata": {
    "hidden": true
   },
   "outputs": [],
   "source": [
    "exclude_cols = 0.3\n",
    "analysis.error_analysis_shap_plot(weather='all', model='xgboost', exclude_cols=exclude_cols)"
   ]
  },
  {
   "cell_type": "code",
   "execution_count": null,
   "id": "006a2c5b",
   "metadata": {
    "hidden": true
   },
   "outputs": [],
   "source": [
    "for exclude_cols in best.index[:5]:\n",
    "    analysis.error_analysis_shap_plot(weather='all', model='xgboost', exclude_cols=exclude_cols)"
   ]
  },
  {
   "cell_type": "code",
   "execution_count": null,
   "id": "e65c68a3",
   "metadata": {
    "hidden": true
   },
   "outputs": [],
   "source": [
    "best = tune_exclude_cols(weather='all', model='xgboost', species_level=True).sort_values(ascending=False)\n",
    "for exclude_cols in best.index[:5]:\n",
    "    analysis.error_analysis_shap_plot(weather='all', model='xgboost', exclude_cols=exclude_cols, species_level=True)"
   ]
  },
  {
   "cell_type": "code",
   "execution_count": null,
   "id": "20d188d5",
   "metadata": {
    "hidden": true
   },
   "outputs": [],
   "source": [
    "best"
   ]
  },
  {
   "cell_type": "code",
   "execution_count": null,
   "id": "6791ce98",
   "metadata": {
    "hidden": true
   },
   "outputs": [],
   "source": [
    "p = analysis.error_analysis_shap_performance(weather='all', model='xgboost', exclude_cols=0.4)\n",
    "1 - (p['error'] / p['error_baseline']), p"
   ]
  },
  {
   "cell_type": "code",
   "execution_count": null,
   "id": "1e13d5df",
   "metadata": {
    "hidden": true
   },
   "outputs": [],
   "source": [
    "analysis.corr_with_accuracy_plot(prune=0.15)"
   ]
  },
  {
   "cell_type": "code",
   "execution_count": null,
   "id": "4719a9c8",
   "metadata": {
    "hidden": true
   },
   "outputs": [],
   "source": [
    "analysis.error_analysis_shap_plot(weather='all', model='xgboost', exclude_cols=0.4, max_display=8)"
   ]
  },
  {
   "cell_type": "code",
   "execution_count": null,
   "id": "75b74f39",
   "metadata": {
    "hidden": true
   },
   "outputs": [],
   "source": [
    "analysis.error_analysis_shap_plot(weather='all', model='xgboost', exclude_cols=0.342857)"
   ]
  },
  {
   "cell_type": "code",
   "execution_count": null,
   "id": "7062f187",
   "metadata": {
    "hidden": true
   },
   "outputs": [],
   "source": [
    "analysis.error_analysis_shap_plot(weather='all', model='xgboost', exclude_cols=0.342857, species_level=True)\n",
    "analysis.error_analysis_shap_plot(weather='all', model='xgboost', exclude_cols=0.428571, species_level=True)"
   ]
  },
  {
   "cell_type": "code",
   "execution_count": null,
   "id": "da30849b",
   "metadata": {
    "hidden": true
   },
   "outputs": [],
   "source": [
    "analysis.error_analysis_shap_plot(weather='all', model='xgboost')"
   ]
  },
  {
   "cell_type": "code",
   "execution_count": null,
   "id": "c21ad96d",
   "metadata": {
    "hidden": true
   },
   "outputs": [],
   "source": [
    "analysis.corr_with_accuracy_micro_plot(prune=0.1)"
   ]
  },
  {
   "cell_type": "markdown",
   "id": "d93a7c24",
   "metadata": {
    "hidden": true
   },
   "source": [
    "## SHAP values for predicting accuracy (species level)"
   ]
  },
  {
   "cell_type": "code",
   "execution_count": null,
   "id": "41a7ab2d",
   "metadata": {
    "hidden": true
   },
   "outputs": [],
   "source": [
    "cluster_ID = analysis.error_analysis_shap_feature_cluster(species_level=True, weather='all', random_states=range(1,6), exclude_cols=['taxa', 'sex'], height=0.2)\n",
    "cluster_ID"
   ]
  },
  {
   "cell_type": "code",
   "execution_count": null,
   "id": "d35f703f",
   "metadata": {
    "hidden": true
   },
   "outputs": [],
   "source": [
    "data = analysis.error_analysis_shap_species_level(weather='all', model='xgboost', exclude_cols=0.3)"
   ]
  },
  {
   "cell_type": "code",
   "execution_count": null,
   "id": "f6a55334",
   "metadata": {
    "hidden": true
   },
   "outputs": [],
   "source": [
    "data['test_data'][0].columns.size"
   ]
  },
  {
   "cell_type": "code",
   "execution_count": null,
   "id": "51d35f42",
   "metadata": {
    "hidden": true
   },
   "outputs": [],
   "source": [
    "p = analysis.error_analysis_shap_performance(weather='all', model='xgboost', species_level=True, exclude_cols=0.4)\n",
    "1 - (p['error'] / p['error_baseline']), p"
   ]
  },
  {
   "cell_type": "code",
   "execution_count": null,
   "id": "02525103",
   "metadata": {
    "hidden": true
   },
   "outputs": [],
   "source": [
    "p = analysis.error_analysis_shap_performance(weather='all', model='xgboost', species_level=True, exclude_cols=[])"
   ]
  },
  {
   "cell_type": "code",
   "execution_count": null,
   "id": "a4b274e6",
   "metadata": {
    "hidden": true
   },
   "outputs": [],
   "source": [
    "1 - (p['error'] / p['error_baseline']), p"
   ]
  },
  {
   "cell_type": "code",
   "execution_count": null,
   "id": "f24389a4",
   "metadata": {
    "hidden": true
   },
   "outputs": [],
   "source": [
    "for reduce in ['mean', 'median']:\n",
    "    analysis.corr_with_accuracy_plot(species_level=True, reduce=reduce)"
   ]
  },
  {
   "cell_type": "code",
   "execution_count": null,
   "id": "4f3d52cb",
   "metadata": {
    "hidden": true
   },
   "outputs": [],
   "source": [
    "fig = analysis.corr_with_accuracy_plot(species_level=False)"
   ]
  },
  {
   "cell_type": "code",
   "execution_count": null,
   "id": "5fc4d566",
   "metadata": {
    "hidden": true
   },
   "outputs": [],
   "source": [
    "fig.update_layout(margin=dict(t=0,b=0,l=0,r=0),  height=1000, width=900)\n",
    "fig.write_image('ex.png')"
   ]
  },
  {
   "cell_type": "code",
   "execution_count": null,
   "id": "9ff1497e",
   "metadata": {
    "hidden": true
   },
   "outputs": [],
   "source": [
    "analysis.error_analysis_shap_plot(species_level=True, weather='all', model='xgboost', exclude_cols=0.4)"
   ]
  },
  {
   "cell_type": "code",
   "execution_count": null,
   "id": "ec8fc6d8",
   "metadata": {
    "hidden": true
   },
   "outputs": [],
   "source": [
    "dataset, target = analysis.error_analysis_dataset(v2=True, weather='all', common_origin_distance=False, random_states=range(1,6), species_level=True, exclude_cols=['sex'])\n",
    "df = pd.concat([dataset, target], axis=1)"
   ]
  },
  {
   "cell_type": "code",
   "execution_count": null,
   "id": "770f3c87",
   "metadata": {
    "hidden": true
   },
   "outputs": [],
   "source": [
    "c = df.corr('spearman')\n",
    "f = 'mean effort'\n",
    "cf = c[f]"
   ]
  },
  {
   "cell_type": "code",
   "execution_count": null,
   "id": "74956b05",
   "metadata": {
    "hidden": true
   },
   "outputs": [],
   "source": [
    "cf[cf.abs() > 0.1].sort_values(), cf.Accuracy"
   ]
  },
  {
   "cell_type": "markdown",
   "id": "b4df2928",
   "metadata": {
    "hidden": true
   },
   "source": [
    "## Correlation between diff en acc y fishing pressure."
   ]
  },
  {
   "cell_type": "code",
   "execution_count": null,
   "id": "01ef7cd5",
   "metadata": {
    "hidden": true
   },
   "outputs": [],
   "source": [
    "# TODO: revisar y para otras features\n",
    "analysis.corr_acc_vs_feature_pairwise_corr_plot()"
   ]
  },
  {
   "cell_type": "markdown",
   "id": "b65025fe",
   "metadata": {
    "hidden": true
   },
   "source": [
    "## Rest"
   ]
  },
  {
   "cell_type": "code",
   "execution_count": null,
   "id": "54e55a72",
   "metadata": {
    "hidden": true
   },
   "outputs": [],
   "source": [
    "dataset, target = analysis.error_analysis_dataset(v2=True, weather='all', common_origin_distance=False, random_states=range(1,6))"
   ]
  },
  {
   "cell_type": "code",
   "execution_count": null,
   "id": "af8e8d98",
   "metadata": {
    "hidden": true
   },
   "outputs": [],
   "source": [
    "dataset"
   ]
  },
  {
   "cell_type": "code",
   "execution_count": null,
   "id": "0b346890",
   "metadata": {
    "hidden": true
   },
   "outputs": [],
   "source": [
    "target.value_counts()"
   ]
  },
  {
   "cell_type": "code",
   "execution_count": null,
   "id": "530246fe",
   "metadata": {
    "hidden": true
   },
   "outputs": [],
   "source": [
    "target"
   ]
  },
  {
   "cell_type": "code",
   "execution_count": null,
   "id": "4dfcfa77",
   "metadata": {
    "hidden": true
   },
   "outputs": [],
   "source": []
  },
  {
   "cell_type": "code",
   "execution_count": null,
   "id": "97baac42",
   "metadata": {
    "hidden": true
   },
   "outputs": [],
   "source": [
    "relative_conf_change = conf_change / df\n",
    "relative_conf_change = relative_conf_change.replace({np.inf: np.nan, -np.inf: np.nan})\n",
    "relative_conf_change = relative_conf_change.fillna(0)"
   ]
  },
  {
   "cell_type": "code",
   "execution_count": null,
   "id": "48c2763b",
   "metadata": {
    "hidden": true
   },
   "outputs": [],
   "source": []
  },
  {
   "cell_type": "code",
   "execution_count": null,
   "id": "e61642c9",
   "metadata": {
    "hidden": true
   },
   "outputs": [],
   "source": [
    "relative_conf_change"
   ]
  },
  {
   "cell_type": "code",
   "execution_count": null,
   "id": "b9a0669d",
   "metadata": {
    "hidden": true
   },
   "outputs": [],
   "source": [
    "relative_conf_change = hierarchical_clustering(relative_conf_change, to_distance=lambda x:x)"
   ]
  },
  {
   "cell_type": "code",
   "execution_count": null,
   "id": "95d8a169",
   "metadata": {
    "hidden": true
   },
   "outputs": [],
   "source": [
    "relative_conf_change = relative_conf_change.loc[conf_change.index, conf_change.columns]"
   ]
  },
  {
   "cell_type": "code",
   "execution_count": null,
   "id": "09a7f252",
   "metadata": {
    "hidden": true
   },
   "outputs": [],
   "source": [
    "fig = px.imshow(conf_change, x=conf_change.index, y=conf_change.columns, color_continuous_scale='RdBu_r')\n",
    "fig.update_layout(coloraxis=dict(cmid=0))\n",
    "fig.write_image('ex.png')"
   ]
  },
  {
   "cell_type": "code",
   "execution_count": null,
   "id": "81b23bcb",
   "metadata": {
    "hidden": true
   },
   "outputs": [],
   "source": [
    "from sklearn.metrics import confusion_matrix\n",
    "y = df['Taxa'].apply(lambda x: taxa_to_idx[x])\n",
    "y_pred = df['Taxa-predicted'].apply(lambda x: taxa_to_idx[x])\n",
    "\n",
    "confusion_matrix_df = pd.DataFrame(confusion_matrix(y, y_pred, normalize=\"true\")).rename(columns=idx_to_taxa, index=idx_to_taxa)"
   ]
  },
  {
   "cell_type": "code",
   "execution_count": null,
   "id": "76c07f0b",
   "metadata": {
    "hidden": true
   },
   "outputs": [],
   "source": [
    "confusion_matrix_df, categories = analysis.compute_confusion_matrix(df=df, artificial_trajectory=[], cols=['Taxa'])"
   ]
  },
  {
   "cell_type": "code",
   "execution_count": null,
   "id": "fe8882f9",
   "metadata": {
    "hidden": true
   },
   "outputs": [],
   "source": [
    "cm_taxa = confusion_matrix_df.copy()"
   ]
  },
  {
   "cell_type": "code",
   "execution_count": null,
   "id": "cbcf1820",
   "metadata": {
    "hidden": true
   },
   "outputs": [],
   "source": [
    "idx = pd.MultiIndex.from_arrays(([species_to_taxa[species] for species in cm_taxa.index], cm_taxa.index))\n",
    "cm_taxa.index = idx\n",
    "cm_taxa.columns = idx"
   ]
  },
  {
   "cell_type": "code",
   "execution_count": null,
   "id": "d5fda665",
   "metadata": {
    "hidden": true
   },
   "outputs": [],
   "source": [
    "cm_taxa.groupby(level=0, axis=0).apply(lambda x: x.groupby(level=0, axis=1).sum().mean())"
   ]
  },
  {
   "cell_type": "code",
   "execution_count": null,
   "id": "c6e6eb85",
   "metadata": {
    "hidden": true
   },
   "outputs": [],
   "source": [
    "cm_taxa.loc['Birds', 'Birds'].sum(axis=1).mean()"
   ]
  },
  {
   "cell_type": "code",
   "execution_count": null,
   "id": "f5b4026c",
   "metadata": {
    "hidden": true
   },
   "outputs": [],
   "source": [
    "fig = data_visualization.confusion_matrix(df=df, artificial_trajectory=[], save=False)\n",
    "fig.write_image(\"ex.png\")"
   ]
  },
  {
   "cell_type": "code",
   "execution_count": null,
   "id": "f49c97bc",
   "metadata": {
    "hidden": true
   },
   "outputs": [],
   "source": [
    "df.groupby('Tag').apply(lambda S: (S.Prediction == 'Correct').mean())"
   ]
  },
  {
   "cell_type": "code",
   "execution_count": null,
   "id": "126da4aa",
   "metadata": {
    "hidden": true
   },
   "outputs": [],
   "source": [
    "df.groupby(['COMMON_NAME', 'Tag']).apply(lambda S: (S.Prediction == 'Correct').mean()).groupby('Tag').mean()"
   ]
  },
  {
   "cell_type": "code",
   "execution_count": null,
   "id": "28b161de",
   "metadata": {
    "hidden": true
   },
   "outputs": [],
   "source": [
    "dataset = preprocessing.trajectory_complementary_data(v2=True, weather=None)"
   ]
  },
  {
   "cell_type": "code",
   "execution_count": null,
   "id": "4857d904",
   "metadata": {
    "hidden": true
   },
   "outputs": [],
   "source": [
    "for stratify in [True, False]:\n",
    "    analysis.error_analysis_shap_plot(v2=True, weather=None, common_origin_distance=True, random_states=range(1,4), stratify=stratify)"
   ]
  },
  {
   "cell_type": "code",
   "execution_count": null,
   "id": "aedf4bbe",
   "metadata": {
    "hidden": true
   },
   "outputs": [],
   "source": [
    "for stratify in [True, False]:\n",
    "    analysis.error_analysis_shap_plot(v2=True, weather='all', common_origin_distance=False, random_states=range(1,4), stratify=stratify)"
   ]
  },
  {
   "cell_type": "code",
   "execution_count": null,
   "id": "d09a123b",
   "metadata": {
    "hidden": true
   },
   "outputs": [],
   "source": [
    "analysis.corr_with_accuracy_plot(v2=True, weather='all', common_origin_distance=False, random_states=range(1,6), height=1800)"
   ]
  },
  {
   "cell_type": "code",
   "execution_count": null,
   "id": "fde7735c",
   "metadata": {
    "hidden": true
   },
   "outputs": [],
   "source": [
    "# TODO\n",
    "c = analysis.corr_with_accuracy_micro(v2=True, weather='all', common_origin_distance=False, random_states=range(1,6))"
   ]
  },
  {
   "cell_type": "code",
   "execution_count": null,
   "id": "2f3e5807",
   "metadata": {
    "hidden": true
   },
   "outputs": [],
   "source": [
    "dataset, target = analysis.error_analysis_dataset(v2=True, weather='all', common_origin_distance=False, random_states=range(1,6), species_level=False)\n",
    "target.name = 'Accuracy'\n",
    "df = pd.concat([dataset, target], axis=1)\n",
    "\n",
    "cm = analysis.corr_matrix_pruned(df)"
   ]
  },
  {
   "cell_type": "code",
   "execution_count": null,
   "id": "055244d9",
   "metadata": {
    "hidden": true
   },
   "outputs": [],
   "source": [
    "for feature in ['mean effort', 'mean SST anomaly']:\n",
    "    analysis.corr_with_accuracy_micro_feature_plot(feature, v2=True, weather='all', common_origin_distance=False, random_states=range(1,6))\n",
    "    analysis.corr_with_accuracy_micro_feature_plot(feature, v2=True, weather=None, common_origin_distance=True, random_states=range(1,4))"
   ]
  },
  {
   "cell_type": "code",
   "execution_count": null,
   "id": "6595999d",
   "metadata": {
    "hidden": true
   },
   "outputs": [],
   "source": [
    "analysis.corr_with_accuracy_micro_plot(v2=True, weather='all', common_origin_distance=False, random_states=range(1, 6), height=1800)"
   ]
  },
  {
   "cell_type": "code",
   "execution_count": null,
   "id": "e085adbd",
   "metadata": {
    "hidden": true
   },
   "outputs": [],
   "source": [
    "analysis.corr_with_accuracy_plot(v2=True, weather=None, common_origin_distance=True, random_states=range(1,4), height=1800)"
   ]
  },
  {
   "cell_type": "code",
   "execution_count": null,
   "id": "f66981a3",
   "metadata": {
    "hidden": true
   },
   "outputs": [],
   "source": [
    "analysis.corr_with_accuracy_micro_plot(v2=True, weather=None, common_origin_distance=True, random_states=range(1,4), height=1800)"
   ]
  },
  {
   "cell_type": "code",
   "execution_count": null,
   "id": "826b8e7c",
   "metadata": {
    "hidden": true
   },
   "outputs": [],
   "source": [
    "errors = analysis.error_analysis_shap_performance(v2=True, weather='all', common_origin_distance=False, random_states=range(1,4), stratify=True)\n",
    "improvement = errors['error'] / errors['error_baseline'] - 1\n",
    "improvement, errors"
   ]
  },
  {
   "cell_type": "code",
   "execution_count": null,
   "id": "27f4257b",
   "metadata": {
    "hidden": true
   },
   "outputs": [],
   "source": [
    "errors = analysis.error_analysis_shap_performance(v2=True, weather=None, common_origin_distance=True, random_states=range(1,4), stratify=True)\n",
    "improvement = errors['error'] / errors['error_baseline'] - 1\n",
    "improvement, errors"
   ]
  },
  {
   "cell_type": "code",
   "execution_count": null,
   "id": "641d7bff",
   "metadata": {
    "hidden": true
   },
   "outputs": [],
   "source": [
    "dataset, target = analysis.error_analysis_dataset(v2=True, weather=None, common_origin_distance=True, random_states=range(1,6))"
   ]
  },
  {
   "cell_type": "code",
   "execution_count": null,
   "id": "46000c6b",
   "metadata": {
    "hidden": true
   },
   "outputs": [],
   "source": [
    "dataset, target = analysis.error_analysis_dataset(v2=True, weather='all', common_origin_distance=False, random_states=range(1,6))"
   ]
  },
  {
   "cell_type": "code",
   "execution_count": null,
   "id": "66bd8af5",
   "metadata": {
    "hidden": true
   },
   "outputs": [],
   "source": [
    "corr_micro = analysis.corr_with_accuracy_micro()"
   ]
  },
  {
   "cell_type": "code",
   "execution_count": null,
   "id": "1d9de857",
   "metadata": {
    "hidden": true
   },
   "outputs": [],
   "source": [
    "corr_micro.notna().sum().sort_values()"
   ]
  },
  {
   "cell_type": "code",
   "execution_count": null,
   "id": "120e003d",
   "metadata": {
    "hidden": true
   },
   "outputs": [],
   "source": [
    "corr_micro.mean().sort_values()"
   ]
  },
  {
   "cell_type": "code",
   "execution_count": null,
   "id": "a37fce2e",
   "metadata": {
    "hidden": true
   },
   "outputs": [],
   "source": [
    "data = analysis.error_analysis_shap(v2=True, weather='all', common_origin_distance=False, random_states=range(1,6))"
   ]
  },
  {
   "cell_type": "code",
   "execution_count": null,
   "id": "33c133c0",
   "metadata": {
    "hidden": true
   },
   "outputs": [],
   "source": []
  },
  {
   "cell_type": "code",
   "execution_count": null,
   "id": "4062741c",
   "metadata": {
    "hidden": true
   },
   "outputs": [],
   "source": [
    "t1 = time()\n",
    "shap_values = explainer.shap_values(test_data.values[:20])\n",
    "t2 = time()\n",
    "print(t2-t1)"
   ]
  },
  {
   "cell_type": "code",
   "execution_count": null,
   "id": "94cd979c",
   "metadata": {
    "hidden": true
   },
   "outputs": [],
   "source": [
    "shap.summary_plot(shap_values, test_data.values[:100], feature_names=dataset.columns)"
   ]
  },
  {
   "cell_type": "code",
   "execution_count": null,
   "id": "53313a48",
   "metadata": {
    "hidden": true
   },
   "outputs": [],
   "source": [
    "def rmse(predictions, targets):\n",
    "    return np.sqrt(((predictions - targets) ** 2).mean())\n",
    "predictions = tree.predict(test_data.values)\n",
    "baseline = np.ones((test_target.size))\n",
    "error = rmse(predictions, test_target.values)\n",
    "baseline_error = rmse(baseline, test_target.values)\n",
    "error, baseline_error"
   ]
  },
  {
   "cell_type": "code",
   "execution_count": null,
   "id": "aa2a30f3",
   "metadata": {
    "hidden": true
   },
   "outputs": [],
   "source": [
    "tree.score"
   ]
  },
  {
   "cell_type": "code",
   "execution_count": null,
   "id": "994794fa",
   "metadata": {
    "hidden": true
   },
   "outputs": [],
   "source": [
    "tree.score(train_data.values, train_target.values), tree.score(test_data.values, test_target.values)"
   ]
  },
  {
   "cell_type": "code",
   "execution_count": null,
   "id": "2b07ffee",
   "metadata": {
    "hidden": true
   },
   "outputs": [],
   "source": [
    "tree.feature_importances_"
   ]
  },
  {
   "cell_type": "code",
   "execution_count": null,
   "id": "7e0bfbbf",
   "metadata": {
    "hidden": true
   },
   "outputs": [],
   "source": [
    "train_data.columns[np.argsort(tree.feature_importances_)[::-1]]"
   ]
  },
  {
   "cell_type": "code",
   "execution_count": null,
   "id": "98ee89c6",
   "metadata": {
    "hidden": true
   },
   "outputs": [],
   "source": [
    "dtrain = xgb.DMatrix(train_data, label=train_target)\n",
    "\n",
    "# Define the XGBoost parameters for regression\n",
    "params = {\n",
    "    'objective': 'reg:logistic',\n",
    "    'eval_metric': 'rmse',\n",
    "    'eta': 0.1,\n",
    "    'max_depth': 10,\n",
    "}"
   ]
  },
  {
   "cell_type": "code",
   "execution_count": null,
   "id": "48daa638",
   "metadata": {
    "hidden": true
   },
   "outputs": [],
   "source": [
    "model = xgb.train(params, dtrain, num_boost_round=50)"
   ]
  },
  {
   "cell_type": "code",
   "execution_count": null,
   "id": "13b8c791",
   "metadata": {
    "hidden": true
   },
   "outputs": [],
   "source": [
    "dtest = xgb.DMatrix(test_data, label=test_target)\n",
    "predictions = model.predict(dtest)"
   ]
  },
  {
   "cell_type": "code",
   "execution_count": null,
   "id": "8f8a8549",
   "metadata": {
    "hidden": true
   },
   "outputs": [],
   "source": [
    "error = rmse(predictions, test_target.values)\n",
    "error_base = rmse(np.ones((test_target.size)), test_target.values)\n",
    "error, error_base"
   ]
  },
  {
   "cell_type": "code",
   "execution_count": null,
   "id": "b046e335",
   "metadata": {
    "hidden": true
   },
   "outputs": [],
   "source": [
    "error, error_base"
   ]
  },
  {
   "cell_type": "code",
   "execution_count": null,
   "id": "b9e8e006",
   "metadata": {
    "hidden": true
   },
   "outputs": [],
   "source": [
    "predictions.max(), predictions.min()"
   ]
  },
  {
   "cell_type": "code",
   "execution_count": null,
   "id": "c45a5fe1",
   "metadata": {
    "hidden": true
   },
   "outputs": [],
   "source": [
    "(predictions == test_target.values).mean(), test_target.mean()"
   ]
  },
  {
   "cell_type": "code",
   "execution_count": null,
   "id": "c5696ecf",
   "metadata": {
    "hidden": true
   },
   "outputs": [],
   "source": [
    "f1_score(test_target.values, predictions), f1_score(test_target.values, np.ones(test_target.size))"
   ]
  },
  {
   "cell_type": "code",
   "execution_count": null,
   "id": "52c19aba",
   "metadata": {
    "hidden": true
   },
   "outputs": [],
   "source": [
    "pd.Series(predictions).value_counts(normalize=True), test_target.value_counts(normalize=True)"
   ]
  },
  {
   "cell_type": "code",
   "execution_count": null,
   "id": "db0deb9a",
   "metadata": {
    "hidden": true
   },
   "outputs": [],
   "source": [
    "target.name = 'Accuracy'\n",
    "full_dataset = pd.concat([dataset, target], axis=1)"
   ]
  },
  {
   "cell_type": "code",
   "execution_count": null,
   "id": "b021d6a5",
   "metadata": {
    "hidden": true
   },
   "outputs": [],
   "source": [
    "full_dataset.corr('spearman')['Accuracy'].sort_values(ascending=False).iloc[1:]"
   ]
  },
  {
   "cell_type": "code",
   "execution_count": null,
   "id": "3afa6698",
   "metadata": {
    "hidden": true
   },
   "outputs": [],
   "source": [
    "df.value_counts(['Tag', 'Taxa'])"
   ]
  },
  {
   "cell_type": "code",
   "execution_count": null,
   "id": "2b00f654",
   "metadata": {
    "hidden": true
   },
   "outputs": [],
   "source": [
    "from sklearn.metrics import classification_report\n",
    "species = df.COMMON_NAME.values\n",
    "predicted = df.Predicted.values\n",
    "\n",
    "acc_data = classification_report(species, predicted, output_dict=True)\n",
    "acc_data = pd.DataFrame(acc_data).transpose()"
   ]
  },
  {
   "cell_type": "code",
   "execution_count": null,
   "id": "5cea075b",
   "metadata": {
    "hidden": true
   },
   "outputs": [],
   "source": [
    "acc_data.corr('spearman')"
   ]
  },
  {
   "cell_type": "markdown",
   "id": "1343ffa3",
   "metadata": {
    "heading_collapsed": true
   },
   "source": [
    "# Paper figures"
   ]
  },
  {
   "cell_type": "markdown",
   "id": "7a2e9dce",
   "metadata": {
    "hidden": true
   },
   "source": [
    "## Confusion matrix"
   ]
  },
  {
   "cell_type": "code",
   "execution_count": null,
   "id": "c6e471d0",
   "metadata": {
    "hidden": true
   },
   "outputs": [],
   "source": [
    "from utils.analysis import *\n",
    "df_env = classification_report_random_states(weather='all', common_origin_distance=False, random_states=range(1, 6))\n",
    "df = classification_report_random_states(weather=None, common_origin_distance=False, random_states=range(1, 6))\n",
    "cm, _ = compute_confusion_matrix(df=df, artificial_trajectory=[])\n",
    "cm_env, _ = compute_confusion_matrix(df=df_env, artificial_trajectory=[])"
   ]
  },
  {
   "cell_type": "code",
   "execution_count": null,
   "id": "d04cfab0",
   "metadata": {
    "hidden": true
   },
   "outputs": [],
   "source": [
    "cm_env - cm\n",
    "\n",
    "# paper fig\n",
    "for ext in ['eps']: #['png', 'svg', 'pdf']:\n",
    "    analysis.species_clf_taxa_confusion_matrix_plot(weather='all', cluster=False, ext=ext)"
   ]
  },
  {
   "cell_type": "code",
   "execution_count": null,
   "id": "f365a6e7",
   "metadata": {
    "hidden": true
   },
   "outputs": [],
   "source": [
    "# paper fig\n",
    "for ext in ['eps']: #['png', 'svg', 'pdf']:\n",
    "    analysis.species_clf_taxa_confusion_reduction(ext=ext)"
   ]
  },
  {
   "cell_type": "code",
   "execution_count": null,
   "id": "d04fe891",
   "metadata": {
    "hidden": true
   },
   "outputs": [],
   "source": [
    "for hierarchical in [True, False]:\n",
    "    analysis.confusion_matrix_plot(hierarchical=hierarchical, weather='all')"
   ]
  },
  {
   "cell_type": "code",
   "execution_count": null,
   "id": "453059a4",
   "metadata": {
    "hidden": true
   },
   "outputs": [],
   "source": [
    "for hierarchical in [True, False]:\n",
    "    analysis.confusion_matrix_plot(hierarchical=hierarchical, weather=None, common_origin_distance=True)"
   ]
  },
  {
   "cell_type": "code",
   "execution_count": null,
   "id": "605d7b86",
   "metadata": {
    "hidden": true
   },
   "outputs": [],
   "source": [
    "df = analysis.classification_report_random_states(weather=None, common_origin_distance=True, random_states=range(1, 4))"
   ]
  },
  {
   "cell_type": "code",
   "execution_count": null,
   "id": "6bdb2644",
   "metadata": {
    "hidden": true
   },
   "outputs": [],
   "source": [
    "for hierarchical in [True, False]:\n",
    "    analysis.confusion_matrix_plot(hierarchical=hierarchical, common_origin_distance=True, weather=None)"
   ]
  },
  {
   "cell_type": "code",
   "execution_count": null,
   "id": "e56ca6d1",
   "metadata": {
    "hidden": true
   },
   "outputs": [],
   "source": [
    "kwargs = {'weather': 'all'}\n",
    "df = analysis.classification_report_random_states(**kwargs)\n",
    "cm, _ = analysis.compute_confusion_matrix(df=df, artificial_trajectory=[])\n",
    "species = cm.columns"
   ]
  },
  {
   "cell_type": "code",
   "execution_count": null,
   "id": "b6f725e1",
   "metadata": {
    "hidden": true
   },
   "outputs": [],
   "source": [
    "analysis.confusion_matrix_hierarchy_cluster_plot(cmap='inferno', height=0.9)"
   ]
  },
  {
   "cell_type": "code",
   "execution_count": null,
   "id": "ca34e136",
   "metadata": {
    "hidden": true
   },
   "outputs": [],
   "source": [
    "analysis.confusion_matrix_hierarchy_cluster_plot(method='average', height=0.75)"
   ]
  },
  {
   "cell_type": "code",
   "execution_count": null,
   "id": "ce16ed9e",
   "metadata": {
    "hidden": true
   },
   "outputs": [],
   "source": [
    "for method in ['average', 'complete', 'single', 'ward']:\n",
    "    analysis.confusion_matrix_hierarchy_cluster_plot(method=method, height=0.9, cmap='greens', distance='jaccard')\n",
    "    # analysis.confusion_matrix_hierarchy_plot(method=method)"
   ]
  },
  {
   "cell_type": "code",
   "execution_count": null,
   "id": "2b3b2b81",
   "metadata": {
    "hidden": true
   },
   "outputs": [],
   "source": [
    "locals().update(dict(weather='vif', common_origin_distance=False, random_states=range(1,6)))\n",
    "df = analysis.classification_report_random_states(weather=weather, common_origin_distance=common_origin_distance, random_states=random_states)"
   ]
  },
  {
   "cell_type": "code",
   "execution_count": null,
   "id": "e97a256e",
   "metadata": {
    "hidden": true
   },
   "outputs": [],
   "source": [
    "locals().update(dict(weather='all', common_origin_distance=False, random_states=range(1,6)))\n",
    "df = analysis.classification_report_random_states(weather=weather, common_origin_distance=common_origin_distance, random_states=random_states)\n",
    "cm, categories = analysis.compute_confusion_matrix(df=df, artificial_trajectory=[])\n",
    "species = cm.columns.to_list()"
   ]
  },
  {
   "cell_type": "code",
   "execution_count": null,
   "id": "087428cb",
   "metadata": {
    "hidden": true
   },
   "outputs": [],
   "source": [
    "order = ['Polar bears', 'Penguins', 'Birds', 'Seals', 'Sirenians', 'Cetaceans', 'Fishes', 'Turtles']\n",
    "num_by_cat = [len(categories[cat]) for cat in order]\n",
    "cat_sup = [cat for cat, num in zip(order, num_by_cat) for i in range(num)]\n",
    "cat_inf = [cs for cat in order for cs in categories[cat]]"
   ]
  },
  {
   "cell_type": "code",
   "execution_count": null,
   "id": "b50c460c",
   "metadata": {
    "hidden": true
   },
   "outputs": [],
   "source": [
    "diagonal = pd.Series(cm.values.diagonal().copy(), index=species)\n",
    "np.fill_diagonal(cm.values, 0)\n",
    "diagonal.index = pd.MultiIndex.from_arrays([cat_sup, cat_inf])\n",
    "# sort values for each level in level 0\n",
    "diagonal = diagonal.groupby(level=0, group_keys=False).apply(lambda x: x.sort_values(ascending=False))"
   ]
  },
  {
   "cell_type": "code",
   "execution_count": null,
   "id": "7f5dbb77",
   "metadata": {
    "hidden": true
   },
   "outputs": [],
   "source": [
    "diagonal.index = diagonal.index.droplevel(0)"
   ]
  },
  {
   "cell_type": "code",
   "execution_count": null,
   "id": "2f815cfd",
   "metadata": {
    "hidden": true
   },
   "outputs": [],
   "source": [
    "diagonal['Fishes']"
   ]
  },
  {
   "cell_type": "code",
   "execution_count": null,
   "id": "b7aa7b0f",
   "metadata": {
    "hidden": true
   },
   "outputs": [],
   "source": [
    "wrong = df[df.Prediction == 'Wrong']"
   ]
  },
  {
   "cell_type": "code",
   "execution_count": null,
   "id": "655914ee",
   "metadata": {
    "hidden": true
   },
   "outputs": [],
   "source": [
    "wrong"
   ]
  },
  {
   "cell_type": "code",
   "execution_count": null,
   "id": "a1c38077",
   "metadata": {
    "hidden": true
   },
   "outputs": [],
   "source": [
    "cm.loc['Whale shark'].drop_duplicates().sort_values(ascending=False)"
   ]
  },
  {
   "cell_type": "code",
   "execution_count": null,
   "id": "5557657b",
   "metadata": {
    "hidden": true
   },
   "outputs": [],
   "source": [
    "cm['Whale shark'].drop_duplicates().sort_values(ascending=False)"
   ]
  },
  {
   "cell_type": "code",
   "execution_count": null,
   "id": "df87e5fd",
   "metadata": {
    "hidden": true
   },
   "outputs": [],
   "source": [
    "edge_threshold = 0.06666666666666666666666667\n",
    "G = error_analysis.create_graph(cm, edge_threshold=edge_threshold)\n",
    "int_to_species = {i: s for i, s in enumerate(cm.columns)}\n",
    "in_degree = pd.Series(dict(G.in_degree(weight='weight')))\n",
    "\n",
    "clusters = error_analysis.infomap_communities(G, int_to_cat=int_to_species, weight_threshold=None, seeds=[12], return_infomap_data=False, save=True)\n",
    "clusters_to_n = clusters.value_counts()\n",
    "clusters = clusters[clusters.map(clusters_to_n) > 1]\n",
    "clusters_to_n = clusters_to_n[clusters_to_n > 1]\n",
    "remap = pd.Series(range(1, clusters_to_n.size+1), index=clusters_to_n.index)\n",
    "clusters = clusters.map(remap)"
   ]
  },
  {
   "cell_type": "code",
   "execution_count": null,
   "id": "1b00f6a4",
   "metadata": {
    "hidden": true
   },
   "outputs": [],
   "source": [
    "s_clusters = clusters[clusters == 1].index"
   ]
  },
  {
   "cell_type": "code",
   "execution_count": null,
   "id": "4481e169",
   "metadata": {
    "hidden": true
   },
   "outputs": [],
   "source": [
    "acc[s_clusters].sort_values(ascending=False)"
   ]
  },
  {
   "cell_type": "code",
   "execution_count": null,
   "id": "9d288ca7",
   "metadata": {
    "hidden": true
   },
   "outputs": [],
   "source": [
    "best_threshold = 0.08421052631578947 #highest modularity and intra_community_percentage_total"
   ]
  },
  {
   "cell_type": "code",
   "execution_count": null,
   "id": "a00ad643",
   "metadata": {
    "hidden": true
   },
   "outputs": [],
   "source": [
    "sensitivity_data = error_analysis.dissimilarity_graph_sensitivity_analysis(seeds=[1000], weight_thresholds=np.linspace(0, 0.2, 20))"
   ]
  },
  {
   "cell_type": "code",
   "execution_count": null,
   "id": "a4f502f6",
   "metadata": {
    "hidden": true
   },
   "outputs": [],
   "source": [
    "sensitivity_data"
   ]
  },
  {
   "cell_type": "code",
   "execution_count": null,
   "id": "11e625c6",
   "metadata": {
    "hidden": true
   },
   "outputs": [],
   "source": [
    "sensitivity_data = error_analysis.dissimilarity_graph_sensitivity_analysis()\n",
    "sensitivity_data.round(2)"
   ]
  },
  {
   "cell_type": "code",
   "execution_count": null,
   "id": "90acde7f",
   "metadata": {
    "hidden": true
   },
   "outputs": [],
   "source": [
    "edge_thresholds = [0., 0.005128205128205128, 0.035897435897435895,  0.06666666666666667, 0.076923, 0.08421052631578947, 0.042105, 0.097, 0.0666666666666667] # 0.092308, 0.082051]\n",
    "sensitivity_data = error_analysis.dissimilarity_graph_sensitivity_analysis()\n",
    "measured_thresholds = pd.Series(sensitivity_data.index, index=sensitivity_data.index)\n",
    "for edge_threshold in tqdm(edge_thresholds[-1:]):\n",
    "    measured_threshold = (measured_thresholds - edge_threshold).abs().idxmin()\n",
    "    error_analysis.community_visualization(edge_threshold=measured_threshold)"
   ]
  },
  {
   "cell_type": "code",
   "execution_count": null,
   "id": "f19fb6e2",
   "metadata": {
    "hidden": true
   },
   "outputs": [],
   "source": [
    "edge_threshold = 0.042105\n",
    "seeds = [1000]\n",
    "int_to_species = {i: s for i, s in enumerate(cm.columns)}\n",
    "G = error_analysis.create_graph(cm, edge_threshold=edge_threshold)\n",
    "clusters, _ = error_analysis.infomap_communities(G, int_to_cat=int_to_species, weight_threshold=None, seeds=seeds)"
   ]
  },
  {
   "cell_type": "code",
   "execution_count": null,
   "id": "79fb9211",
   "metadata": {
    "hidden": true
   },
   "outputs": [],
   "source": [
    "clusters.max()"
   ]
  },
  {
   "cell_type": "code",
   "execution_count": null,
   "id": "b1722830",
   "metadata": {
    "hidden": true
   },
   "outputs": [],
   "source": [
    "# paper fig\n",
    "error_analysis.community_trajectory_visualization_iter()"
   ]
  },
  {
   "cell_type": "code",
   "execution_count": null,
   "id": "5ebf1a91",
   "metadata": {
    "hidden": true
   },
   "outputs": [],
   "source": [
    "from PIL import Image\n",
    "\n",
    "def create_gif_from_pngs(png_paths, output_gif_path, duration=1000):\n",
    "    \"\"\"\n",
    "    Create a GIF from a list of PNG images.\n",
    "\n",
    "    Args:\n",
    "        png_paths (list): List of file paths to the PNG images.\n",
    "        output_gif_path (str): File path where the GIF will be saved.\n",
    "        duration (int, optional): Duration (in milliseconds) for each frame in the GIF.\n",
    "                                  Defaults to 100ms.\n",
    "\n",
    "    Returns:\n",
    "        None\n",
    "    \"\"\"\n",
    "    images = []\n",
    "\n",
    "    # Open and append each PNG image to the list\n",
    "    for png_path in png_paths:\n",
    "        img = Image.open(png_path)\n",
    "        images.append(img)\n",
    "\n",
    "    # Save the list of images as a GIF\n",
    "    images[0].save(output_gif_path,\n",
    "                   save_all=True,\n",
    "                   append_images=images[1:],\n",
    "                   duration=duration,\n",
    "                   loop=0)  # loop=0 makes the GIF loop indefinitely\n",
    "    return\n",
    "\n",
    "def get_path(cluster, hub_to_gold=True):\n",
    "    hub_to_gold_str = tidypath.fmt.encoder(hub_to_gold)\n",
    "    return f'figs/error_analysis/community_trajectory_visualization/community_trajectory_visualization_cluster-{cluster}_hub-to-gold-{hub_to_gold_str}_num-points-20_.png'\n",
    "\n",
    "png_paths = [[get_path(cluster, hub_to_gold) for hub_to_gold in [True, False]] for cluster in range(1, 12)]"
   ]
  },
  {
   "cell_type": "code",
   "execution_count": null,
   "id": "e9989da8",
   "metadata": {
    "hidden": true
   },
   "outputs": [],
   "source": [
    "for inputs in png_paths:\n",
    "    output = inputs[0].replace('.png', '.gif')\n",
    "    create_gif_from_pngs(inputs, output, duration=3000)"
   ]
  },
  {
   "cell_type": "code",
   "execution_count": null,
   "id": "5bbf353d",
   "metadata": {
    "hidden": true
   },
   "outputs": [],
   "source": [
    "# r = {}\n",
    "# for s in tqdm(range(1, 300)):\n",
    "#     clusters = error_analysis.infomap_communities(G, int_to_cat=int_to_species, weight_threshold=None, seeds=[s], return_infomap_data=False, save=False, overwrite=True)\n",
    "#     n = clusters.value_counts().values\n",
    "#     if n[0] == 15:\n",
    "#         r[s] = n"
   ]
  },
  {
   "cell_type": "code",
   "execution_count": null,
   "id": "3e4319bd",
   "metadata": {
    "hidden": true
   },
   "outputs": [],
   "source": [
    "if hub_to_gold:\n",
    "    s = wrong_cluster.sort_values('in_degree', ascending=False)['COMMON_NAME'].iloc[0]\n",
    "    wrong_cluster.loc[wrong_cluster.COMMON_NAME == s, 'color'] = 'gold'\n",
    "\n",
    "fig = get_figure(xaxis_title='Longitude', yaxis_title='Latitude', height=height, width=width)\n",
    "wrong_cluster = wrong_cluster.sort_values(['Taxa', 'in_degree'], ascending=[True, False])\n",
    "# iterate over rows\n",
    "for ID, row in tqdm(wrong_cluster.iterrows()):\n",
    "    # get trajectory\n",
    "    lat, lon, _ = df.loc[ID]\n",
    "    idxs = np.linspace(0, lat.size-1, num_points).astype(int)\n",
    "    lat = lat[idxs]\n",
    "    lon = lon[idxs]\n",
    "    has_appeared = any(d.name == row.COMMON_NAME for d in fig.data)\n",
    "    size = min_size + row.in_degree * 10\n",
    "    fig.add_trace(go.Scattergeo(lat=lat,\n",
    "                                lon=lon,\n",
    "                                mode='markers+lines',\n",
    "                                marker=dict(color=row.color, symbol=row.symbol, size=size, opacity=0.5),\n",
    "                                line=dict(color=row.color, width=1),\n",
    "                                legendgroup=row.COMMON_NAME,\n",
    "                                # legendgroup_title_text=row.Taxa,\n",
    "                                name=row.COMMON_NAME,\n",
    "                                showlegend=not has_appeared,\n",
    "                                hovertemplate=f\"ID: {ID}<br>Species: {row.COMMON_NAME}<br>Taxa: {row.Taxa}<extra></extra>\"\n",
    "                                )\n",
    "                  )\n",
    "\n",
    "fig.update_layout(legend=dict(font=dict(size=35), tracegroupgap=1, groupclick='togglegroup', y=0.5),\n",
    "                  margin=dict(t=0,b=0,l=0,r=0)\n",
    "                  )\n",
    "# beautiful geo layout. Show continents in brown, water in light blue almost white.\n",
    "fig.update_geos(scope='world',\n",
    "                showcountries=False,\n",
    "                showocean=True, oceancolor='lightblue',\n",
    "                showland=True, landcolor='tan',\n",
    "                showlakes=True, lakecolor='lightblue',\n",
    "                showrivers=True, rivercolor='lightblue',\n",
    "                showcoastlines=True, coastlinecolor='black', coastlinewidth=1,\n",
    "                )\n",
    "fig.write_image('ex.png')"
   ]
  },
  {
   "cell_type": "code",
   "execution_count": null,
   "id": "a8344de8",
   "metadata": {
    "hidden": true
   },
   "outputs": [],
   "source": [
    "fig.write_html('ex.html')"
   ]
  },
  {
   "cell_type": "code",
   "execution_count": null,
   "id": "05a0f361",
   "metadata": {
    "hidden": true
   },
   "outputs": [],
   "source": [
    "cluster = 0\n",
    "species = clusters[clusters == cluster].index"
   ]
  },
  {
   "cell_type": "code",
   "execution_count": null,
   "id": "d1bcaabd",
   "metadata": {
    "hidden": true
   },
   "outputs": [],
   "source": [
    "clusters.value_counts()"
   ]
  },
  {
   "cell_type": "code",
   "execution_count": null,
   "id": "d0978c3e",
   "metadata": {
    "hidden": true
   },
   "outputs": [],
   "source": [
    "# paper fig\n",
    "edge_threshold = 0.06666666666666666666666667\n",
    "for r in range(1, 30):\n",
    "    error_analysis.community_visualization(edge_threshold=edge_threshold, n_neighbors=3, seeds=[120], random_state=r)"
   ]
  },
  {
   "cell_type": "code",
   "execution_count": null,
   "id": "e8b194a7",
   "metadata": {
    "hidden": true
   },
   "outputs": [],
   "source": [
    "# paper fig\n",
    "edge_threshold = 0.06666666666666666666666667\n",
    "r = 2\n",
    "error_analysis.community_visualization(edge_threshold=edge_threshold, n_neighbors=3, seeds=[120], random_state=r, ext='svg')"
   ]
  },
  {
   "cell_type": "code",
   "execution_count": null,
   "id": "43e9d4ad",
   "metadata": {
    "hidden": true
   },
   "outputs": [],
   "source": [
    "# visualize_clusters_with_taxa(G_prunned, clusters_prunned, node_scaling='cc', min_node_size=1000, lw=60, threshold_edge=0, layout='umap', n_neighbors=3, metric='precomputed')"
   ]
  },
  {
   "cell_type": "code",
   "execution_count": null,
   "id": "3ac5b650",
   "metadata": {
    "hidden": true
   },
   "outputs": [],
   "source": [
    "# visualize_clusters_with_taxa(G_prunned, clusters_prunned, node_scaling='in-degree', min_node_size=1000, lw=60, threshold_edge=0, layout='spring', k=0.25,  seed=42)"
   ]
  },
  {
   "cell_type": "code",
   "execution_count": null,
   "id": "6dbe8a45",
   "metadata": {
    "hidden": true
   },
   "outputs": [],
   "source": [
    "pd.Series(partition).value_counts().unique()"
   ]
  },
  {
   "cell_type": "code",
   "execution_count": null,
   "id": "c8f00216",
   "metadata": {
    "hidden": true
   },
   "outputs": [],
   "source": [
    "species_to_taxa = preprocessing.get_species_to_taxa()\n",
    "taxa_to_species = {taxa: [s for s in species if species_to_taxa[s] == taxa] for taxa in np.unique([*species_to_taxa.values()])}"
   ]
  },
  {
   "cell_type": "code",
   "execution_count": null,
   "id": "07e2fb73",
   "metadata": {
    "hidden": true
   },
   "outputs": [],
   "source": [
    "taxa_to_species"
   ]
  },
  {
   "cell_type": "code",
   "execution_count": null,
   "id": "b55957a3",
   "metadata": {
    "hidden": true
   },
   "outputs": [],
   "source": [
    "cluster_IDs = clusters.groupby(clusters).apply(lambda x: x.index.tolist())\n",
    "\n",
    "cluster_taxas = cluster_IDs.apply(lambda x: [species_to_taxa[species] for species in x])"
   ]
  },
  {
   "cell_type": "code",
   "execution_count": null,
   "id": "8709f3e4",
   "metadata": {
    "hidden": true
   },
   "outputs": [],
   "source": [
    "cluster_taxas.apply(np.unique)"
   ]
  },
  {
   "cell_type": "code",
   "execution_count": null,
   "id": "5eef732d",
   "metadata": {
    "hidden": true
   },
   "outputs": [],
   "source": [
    "# plot DAG\n",
    "nx.draw_networkx_nodes(G, pos, node_size=100, node_color=node_colors)\n",
    "# nx.draw_networkx_labels(G, pos, font_size=18)\n",
    "weight = nx.get_edge_attributes(G, 'weight')\n",
    "nx.draw_networkx_edges(G, pos, arrowsize=20, edge_color=list(weight.values()), edge_cmap=plt.cm.Blues, width=2)\n",
    "plt.axis('off')\n",
    "plt.savefig('ex.png')"
   ]
  },
  {
   "cell_type": "code",
   "execution_count": null,
   "id": "e0dc203b",
   "metadata": {
    "hidden": true
   },
   "outputs": [],
   "source": [
    "analysis.confusion_matrix_hierarchy_cluster_plot()"
   ]
  },
  {
   "cell_type": "code",
   "execution_count": null,
   "id": "7b1d2b7f",
   "metadata": {
    "hidden": true
   },
   "outputs": [],
   "source": [
    "clusters, cluster_idxs, cm = analysis.confusion_matrix_hierarchy_clusters()\n",
    "species_to_taxa = preprocessing.get_species_to_taxa()\n",
    "cluster_taxas = clusters.apply(lambda x: [species_to_taxa[species] for species in x])\n",
    "cluster_taxas.apply(np.unique)"
   ]
  },
  {
   "cell_type": "code",
   "execution_count": null,
   "id": "7bd46604",
   "metadata": {
    "hidden": true
   },
   "outputs": [],
   "source": [
    "np.unique([*species_to_taxa.values()])"
   ]
  },
  {
   "cell_type": "code",
   "execution_count": null,
   "id": "501072b4",
   "metadata": {
    "hidden": true
   },
   "outputs": [],
   "source": [
    "[k for k,v in species_to_taxa.items() if v == 'Sirenians']"
   ]
  },
  {
   "cell_type": "code",
   "execution_count": null,
   "id": "f56bb4d5",
   "metadata": {
    "hidden": true
   },
   "outputs": [],
   "source": [
    "for weather in [None, 'all']:\n",
    "    analysis.species_clf_taxa_confusion_matrix_plot(weather=weather, cluster=False)"
   ]
  },
  {
   "cell_type": "code",
   "execution_count": null,
   "id": "8c67cb5e",
   "metadata": {
    "hidden": true
   },
   "outputs": [],
   "source": [
    "# paper fig\n",
    "for ext in ['eps']: #['png', 'svg', 'pdf']:\n",
    "    analysis.species_clf_taxa_confusion_matrix_plot(weather='all', cluster=False, ext=ext)"
   ]
  },
  {
   "cell_type": "code",
   "execution_count": null,
   "id": "9cbe204c",
   "metadata": {
    "hidden": true
   },
   "outputs": [],
   "source": [
    "# paper fig\n",
    "for ext in ['eps']: #['png', 'svg', 'pdf']:\n",
    "    analysis.species_clf_taxa_confusion_reduction(ext=ext)"
   ]
  },
  {
   "cell_type": "code",
   "execution_count": null,
   "id": "fcf5587c",
   "metadata": {
    "hidden": true
   },
   "outputs": [],
   "source": [
    "for hierarchical in [True, False]:\n",
    "    analysis.confusion_matrix_plot(hierarchical=hierarchical, weather='all')"
   ]
  },
  {
   "cell_type": "code",
   "execution_count": null,
   "id": "b6c8c39d",
   "metadata": {
    "hidden": true
   },
   "outputs": [],
   "source": [
    "# paper fig\n",
    "for ext in ['png', 'svg', 'pdf']:\n",
    "    analysis.confusion_matrix_plot(hierarchical=False, weather='all', diagonal_out=True, ext=ext)"
   ]
  },
  {
   "cell_type": "code",
   "execution_count": null,
   "id": "ed4791c7",
   "metadata": {
    "hidden": true
   },
   "outputs": [],
   "source": [
    "# paper fig\n",
    "for ext in ['png', 'svg', 'pdf']:\n",
    "    analysis.confusion_matrix_plot_diagonal(weather='all', ext=ext, colorscale_diag='plasma')"
   ]
  },
  {
   "cell_type": "code",
   "execution_count": null,
   "id": "6f03be94",
   "metadata": {
    "hidden": true
   },
   "outputs": [],
   "source": [
    "fig_diag = analysis.confusion_matrix_plot_diagonal(weather='all', return_fig=True)"
   ]
  },
  {
   "cell_type": "code",
   "execution_count": null,
   "id": "206c0258",
   "metadata": {
    "hidden": true
   },
   "outputs": [],
   "source": [
    "fig_diag.update_layout(coloraxis = dict(cmin=0, cmax=1, colorbar=dict(title=dict(text='', font=dict(family='sans-serif', size=40)), tickfont_size=32, x=1.1, len=0.6, y=0.45, thickness=60)),\n",
    "                       height=1500, width=400,\n",
    "                       font_size=20,\n",
    "                       margin = dict(t=0, b=80, l=0, r=100, pad=1),\n",
    "                       xaxis = dict(visible=False),\n",
    "                       yaxis = dict(visible=False)\n",
    "                       )\n",
    "fig_diag.write_image('ex.png')"
   ]
  },
  {
   "cell_type": "code",
   "execution_count": null,
   "id": "daed2673",
   "metadata": {
    "hidden": true
   },
   "outputs": [],
   "source": [
    "for hierarchical in [True, False]:\n",
    "    analysis.confusion_matrix_plot(hierarchical=hierarchical, weather=None, common_origin_distance=True)"
   ]
  },
  {
   "cell_type": "code",
   "execution_count": null,
   "id": "5dba0b28",
   "metadata": {
    "hidden": true
   },
   "outputs": [],
   "source": [
    "for hierarchical in [True, False]:\n",
    "    analysis.confusion_matrix_plot(hierarchical=hierarchical, weather=None, common_origin_distance=False)"
   ]
  },
  {
   "cell_type": "code",
   "execution_count": null,
   "id": "a819caac",
   "metadata": {
    "hidden": true
   },
   "outputs": [],
   "source": [
    "df = analysis.classification_report_random_states(weather=None, common_origin_distance=True, random_states=range(1, 6))"
   ]
  },
  {
   "cell_type": "code",
   "execution_count": null,
   "id": "5c30c534",
   "metadata": {
    "hidden": true
   },
   "outputs": [],
   "source": []
  },
  {
   "cell_type": "code",
   "execution_count": null,
   "id": "9e1fa17c",
   "metadata": {
    "hidden": true
   },
   "outputs": [],
   "source": [
    "for hierarchical in [True, False]:\n",
    "    analysis.confusion_matrix_plot(hierarchical=hierarchical, common_origin_distance=True, weather=None)"
   ]
  },
  {
   "cell_type": "code",
   "execution_count": null,
   "id": "31521d21",
   "metadata": {
    "hidden": true
   },
   "outputs": [],
   "source": [
    "kwargs = {'weather': 'all'}\n",
    "df = analysis.classification_report_random_states(**kwargs)\n",
    "cm, _ = analysis.compute_confusion_matrix(df=df, artificial_trajectory=[])\n",
    "species = cm.columns"
   ]
  },
  {
   "cell_type": "code",
   "execution_count": null,
   "id": "ddd8cff1",
   "metadata": {
    "hidden": true
   },
   "outputs": [],
   "source": [
    "locals().update(dict(size=\"all\", artificial_trajectory=[\"levy-flight\", \"random-walk\"], classifier=\"LSTM\"))\n",
    "df, categories = analysis.compute_confusion_matrix(size=size, artificial_trajectory=artificial_trajectory, classifier=\"LSTM\")"
   ]
  },
  {
   "cell_type": "markdown",
   "id": "2d23ba61",
   "metadata": {
    "hidden": true
   },
   "source": [
    "## Accuracy geoplot"
   ]
  },
  {
   "cell_type": "code",
   "execution_count": null,
   "id": "62f06d1c",
   "metadata": {
    "hidden": true
   },
   "outputs": [],
   "source": [
    "data = storage.load_lzma(\"utils/data/mobility_data.lzma\")[[\"LONGITUDE\", \"LATITUDE\", \"ID\", \"COMMON_NAME\"]]\n",
    "data.columns = [\"lon\", \"lat\", \"ID\", \"species\"]"
   ]
  },
  {
   "cell_type": "code",
   "execution_count": null,
   "id": "87e481ec",
   "metadata": {
    "hidden": true
   },
   "outputs": [],
   "source": [
    "pdir = \"utils/data/classification_report/InceptionTime\"\n",
    "start = \"report_5-kfold_species_clf_velocity-arch-segment_to-origin-_weather-all_random-state\"\n",
    "dfs = [pd.read_csv(os.path.join(pdir, file)).set_index(\"ID\")[\"Prediction\"].replace(dict(Correct=1, Wrong=0)) for file in os.listdir(pdir) if file.startswith(start)]"
   ]
  },
  {
   "cell_type": "code",
   "execution_count": null,
   "id": "070501ff",
   "metadata": {
    "hidden": true
   },
   "outputs": [],
   "source": [
    "df_full = pd.concat(dfs, axis=1, ignore_index=False)\n",
    "df = df_full.mean(axis=1)\n",
    "df.name = \"accuracy\""
   ]
  },
  {
   "cell_type": "code",
   "execution_count": null,
   "id": "39746dca",
   "metadata": {
    "hidden": true
   },
   "outputs": [],
   "source": [
    "df"
   ]
  },
  {
   "cell_type": "code",
   "execution_count": null,
   "id": "51fe5524",
   "metadata": {
    "hidden": true
   },
   "outputs": [],
   "source": [
    "df = pd.read_csv(\"utils/data/classification_report/InceptionTime/report_5-kfold_species_clf_velocity-arch-segment_to-origin-_weather-all_random-state-0.csv\").set_index(\"ID\")\n",
    "acc = df[\"Prediction\"].replace(dict(Correct=1, Wrong=0))\n",
    "acc.name = \"accuracy\""
   ]
  },
  {
   "cell_type": "code",
   "execution_count": null,
   "id": "d57391a7",
   "metadata": {
    "hidden": true
   },
   "outputs": [],
   "source": [
    "def find_grid_data(lat, lon, data):\n",
    "    data_lon, data_lat, data_traj, data_species, data_acc = data\n",
    "    acc = np.empty((lon.size - 1, lat.size - 1))\n",
    "    trajectories = np.empty((lon.size - 1, lat.size - 1))\n",
    "    species = np.empty((lon.size - 1, lat.size - 1))\n",
    "    for i, (lon_l, lon_u) in enumerate(zip(tqdm(lon[:-1]), lon[1:])):\n",
    "        c1 = (data_lon >= lon_l) & (data_lon < lon_u)\n",
    "        data_lat, data_traj, data_species, data_acc = data[1:, c1]\n",
    "        for j, (lat_l, lat_u) in enumerate(zip(lat[:-1], lat[1:])):\n",
    "            condition = (data_lat >= lat_l) & (data_lat < lat_u)\n",
    "            if condition.any():\n",
    "                trajectory_IDs = data_traj[condition]\n",
    "                accs = data_acc[condition]\n",
    "                acc[i, j] = np.array([accs[trajectory_IDs == ID].mean() for ID in np.unique(trajectory_IDs)]).mean()\n",
    "                trajectories[i,j] = np.unique(trajectory_IDs).size\n",
    "                species[i,j] = np.unique(data_species[condition]).size\n",
    "            else:\n",
    "                acc[i, j] = np.NaN\n",
    "                trajectories[i, j] = np.NaN\n",
    "                species[i, j] = np.NaN\n",
    "    return acc, trajectories, species"
   ]
  },
  {
   "cell_type": "code",
   "execution_count": null,
   "id": "d6b552f3",
   "metadata": {
    "hidden": true
   },
   "outputs": [],
   "source": [
    "d = mean_acc"
   ]
  },
  {
   "cell_type": "code",
   "execution_count": null,
   "id": "52bb39c4",
   "metadata": {
    "hidden": true
   },
   "outputs": [],
   "source": [
    "acc, trajectories, species, lat, lon = accuracy_plot_data(df, data=data, n_lat=n_lat, n_lon=n_lon, mean_acc=mean_acc)"
   ]
  },
  {
   "cell_type": "code",
   "execution_count": null,
   "id": "77a81ec4",
   "metadata": {
    "hidden": true
   },
   "outputs": [],
   "source": [
    "from mpl_toolkits.basemap import Basemap\n",
    "from matplotlib import cm\n",
    "from phdu import savefig\n",
    "\n",
    "def accuracy_plot_mean_acc(acc, data=None):\n",
    "    if data is None:\n",
    "        data = storage.load_lzma(\"utils/data/mobility_data.lzma\")[[\"LONGITUDE\", \"LATITUDE\", \"ID\", \"COMMON_NAME\"]]\n",
    "        data.columns = [\"lon\", \"lat\", \"ID\", \"species\"]\n",
    "    def add_acc(df):\n",
    "        if df.ID.iloc[0] in acc.index:\n",
    "            return df.assign(accuracy=acc.loc[df.ID.iloc[0]])\n",
    "        else:\n",
    "            return df.assign(accuracy=np.NaN)\n",
    "    mean_acc = data.groupby(\"ID\").apply(add_acc).dropna()\n",
    "    mean_acc[\"ID\"] = pd.Categorical(mean_acc.ID.values).codes\n",
    "    mean_acc[\"species\"] = pd.Categorical(mean_acc.species.values).codes\n",
    "    mean_acc[\"lat\"] = mean_acc.lat.astype(np.float64)\n",
    "    mean_acc[\"lon\"] = mean_acc.lon.astype(np.float64)\n",
    "    mean_acc = mean_acc.sort_values(by=[\"lon\", \"lat\"])\n",
    "    return mean_acc\n",
    "\n",
    "def accuracy_plot_data(acc, data=None, mean_acc=None, n_lat=100, n_lon=200):\n",
    "    if mean_acc is None:\n",
    "        mean_acc = accuracy_plot_mean_acc(acc, data=data)\n",
    "    lat, lon = preprocessing.lat_lon_bins(n_lat=n_lat, n_lon=n_lon)\n",
    "    acc, trajectories, species = find_grid_data(lat, lon, mean_acc.values.T)\n",
    "    return acc, trajectories, species, lat, lon\n",
    "\n",
    "@savefig(\"transparency+n_lat+n_lon\")\n",
    "def accuracy_plot(acc=None, trajectories=None, species=None, data=None, mean_acc=None, n_lat=100, n_lon=200,  transparency=\"species\"):\n",
    "    if trajectories is None:\n",
    "        acc, trajectories, species, lat, lon = accuracy_plot_data(data=data, n_lat=n_lat, n_lon=n_lon, mean_acc=mean_acc)\n",
    "    else:\n",
    "        lat, lon = preprocessing.lat_lon_bins(n_lat=n_lat, n_lon=n_lon)\n",
    "    Lon, Lat = np.meshgrid(lon, lat)\n",
    "    fig = plt.figure(figsize = (15,8))\n",
    "    m = Basemap(projection='cyl', llcrnrlat=-90, urcrnrlat=90, llcrnrlon=-180, urcrnrlon=180)\n",
    "\n",
    "    if transparency is None:\n",
    "        m.pcolormesh(Lon, Lat, acc.T, vmin=0, vmax=1,\n",
    "                 latlon=True, cmap='inferno')\n",
    "    else:\n",
    "        if transparency == \"species\":\n",
    "            t = species\n",
    "        elif transparency == \"trajectories\":\n",
    "            t = trajectories\n",
    "        else:\n",
    "            pass\n",
    "\n",
    "        transparency = t.copy()\n",
    "        transparency[np.isnan(t)] = 0\n",
    "        transparency /= transparency.max()\n",
    "        color = cm.inferno(255 * acc.T)\n",
    "        color[:,:, -1] = transparency.T\n",
    "        m.pcolormesh(Lon, Lat, acc.T,\n",
    "                     latlon=True, color=color.reshape(-1, 4))\n",
    "\n",
    "    m.drawcoastlines()\n",
    "    m.fillcontinents(color='tan',lake_color='lightblue')\n",
    "    m.drawmapboundary(fill_color='lightblue')\n",
    "    plt.colorbar(label='Average accuracy')\n",
    "    return fig"
   ]
  },
  {
   "cell_type": "code",
   "execution_count": null,
   "id": "9db7038b",
   "metadata": {
    "hidden": true
   },
   "outputs": [],
   "source": [
    "df.mean()"
   ]
  },
  {
   "cell_type": "code",
   "execution_count": null,
   "id": "ba225e6d",
   "metadata": {
    "hidden": true
   },
   "outputs": [],
   "source": [
    "mean_acc = accuracy_plot_mean_acc(df, data=data)"
   ]
  },
  {
   "cell_type": "code",
   "execution_count": null,
   "id": "b1988091",
   "metadata": {
    "hidden": true
   },
   "outputs": [],
   "source": [
    "n_lat = 45\n",
    "n_lon = 90\n",
    "acc, trajectories, species, lat, lon = accuracy_plot_data(df, data=data, mean_acc=mean_acc, n_lat=n_lat, n_lon=n_lon)"
   ]
  },
  {
   "cell_type": "code",
   "execution_count": null,
   "id": "a802421e",
   "metadata": {
    "hidden": true
   },
   "outputs": [],
   "source": [
    "for transparency in [\"species\", \"trajectories\", None]:\n",
    "    accuracy_plot(transparency=transparency, acc=acc, trajectories=trajectories, species=species, n_lat=n_lat, n_lon=n_lon)"
   ]
  },
  {
   "cell_type": "code",
   "execution_count": null,
   "id": "615d8e36",
   "metadata": {
    "hidden": true
   },
   "outputs": [],
   "source": [
    "for transparency in [\"species\", \"trajectories\", None]:\n",
    "    accuracy_plot(transparency=transparency, acc=acc, trajectories=trajectories, species=species)"
   ]
  },
  {
   "cell_type": "code",
   "execution_count": null,
   "id": "ef5c415c",
   "metadata": {
    "hidden": true
   },
   "outputs": [],
   "source": [
    "cs = cm.inferno(255 * acc.T).reshape(-1, 4)"
   ]
  },
  {
   "cell_type": "code",
   "execution_count": null,
   "id": "43b5b329",
   "metadata": {
    "hidden": true
   },
   "outputs": [],
   "source": [
    "cmap = cm.get_cmap(\"inferno\")"
   ]
  },
  {
   "cell_type": "code",
   "execution_count": null,
   "id": "2e4bf009",
   "metadata": {
    "hidden": true
   },
   "outputs": [],
   "source": [
    "color_rgba = (255 * np.array([0.988362, 0.998364, 0.644924, 1.      ])).astype(int)\n",
    "'#{:02x}{:02x}{:02x}'.format(*color_rgba) # 4th item is ignored because only looking for 3 items"
   ]
  },
  {
   "cell_type": "code",
   "execution_count": null,
   "id": "279613dc",
   "metadata": {
    "hidden": true
   },
   "outputs": [],
   "source": [
    "cs[1595]"
   ]
  },
  {
   "cell_type": "code",
   "execution_count": null,
   "id": "c7d7ea56",
   "metadata": {
    "hidden": true
   },
   "outputs": [],
   "source": [
    "c.ListedColormap()"
   ]
  },
  {
   "cell_type": "code",
   "execution_count": null,
   "id": "0e008060",
   "metadata": {
    "hidden": true
   },
   "outputs": [],
   "source": [
    "c.ListedColormap(cs)"
   ]
  },
  {
   "cell_type": "code",
   "execution_count": null,
   "id": "fe60dbd5",
   "metadata": {
    "hidden": true
   },
   "outputs": [],
   "source": []
  },
  {
   "cell_type": "code",
   "execution_count": null,
   "id": "5e984b4a",
   "metadata": {
    "hidden": true
   },
   "outputs": [],
   "source": [
    "lat, lon = preprocessing.lat_lon_bins(n_lat=100, n_lon=200)\n",
    "mean_acc = data.groupby(\"ID\").apply(add_acc).dropna()\n",
    "mean_acc[\"ID\"] = pd.Categorical(mean_acc.ID.values).codes\n",
    "mean_acc[\"species\"] = pd.Categorical(mean_acc.species.values).codes\n",
    "mean_acc[\"lat\"] = mean_acc.lat.astype(np.float64)\n",
    "mean_acc[\"lon\"] = mean_acc.lon.astype(np.float64)\n",
    "#mean_acc"
   ]
  },
  {
   "cell_type": "code",
   "execution_count": null,
   "id": "ec07811e",
   "metadata": {
    "hidden": true
   },
   "outputs": [],
   "source": [
    "from matplotlib import colors as c\n",
    "from matplotlib import cm"
   ]
  },
  {
   "cell_type": "code",
   "execution_count": null,
   "id": "fb985624",
   "metadata": {
    "hidden": true
   },
   "outputs": [],
   "source": []
  },
  {
   "cell_type": "code",
   "execution_count": null,
   "id": "c2378700",
   "metadata": {
    "hidden": true
   },
   "outputs": [],
   "source": [
    "#color = trajectories / trajectories[~np.isnan(trajectories)].max()"
   ]
  },
  {
   "cell_type": "code",
   "execution_count": null,
   "id": "81b6caa0",
   "metadata": {
    "hidden": true
   },
   "outputs": [],
   "source": [
    "acc, trajectories, species = find_grid_data(lat, lon, mean_acc.values.T)"
   ]
  },
  {
   "cell_type": "code",
   "execution_count": null,
   "id": "e3a5d513",
   "metadata": {
    "hidden": true
   },
   "outputs": [],
   "source": [
    "mean_acc = mean_acc.groupby([\"lat\", \"lon\"]).apply(lambda df: df.accuracy.mean())\n",
    "mean_acc.name = \"acc\"\n",
    "mean_acc = mean_acc.to_frame().reset_index().astype(np.float64)"
   ]
  },
  {
   "cell_type": "code",
   "execution_count": null,
   "id": "3bb68a6b",
   "metadata": {
    "hidden": true
   },
   "outputs": [],
   "source": []
  },
  {
   "cell_type": "code",
   "execution_count": null,
   "id": "cc2df379",
   "metadata": {
    "hidden": true
   },
   "outputs": [],
   "source": [
    "lats = mean_acc.lat.unique()\n",
    "lons = mean_acc.lon.unique()"
   ]
  },
  {
   "cell_type": "code",
   "execution_count": null,
   "id": "0ff8309f",
   "metadata": {
    "hidden": true
   },
   "outputs": [],
   "source": [
    "Lon, Lat = np.meshgrid(lons, lats)"
   ]
  },
  {
   "cell_type": "code",
   "execution_count": null,
   "id": "7f439ef8",
   "metadata": {
    "hidden": true
   },
   "outputs": [],
   "source": [
    "np.prod(Lon.shape), mean_acc.acc.size"
   ]
  },
  {
   "cell_type": "code",
   "execution_count": null,
   "id": "0680a393",
   "metadata": {
    "hidden": true
   },
   "outputs": [],
   "source": [
    "Lon, Lat = np.meshgrid(lon, lat)\n",
    "#m = Basemap(projection='cyl', resolution=None,\n",
    "#            llcrnrlat=-90, urcrnrlat=90,\n",
    "#            llcrnrlon=-180, urcrnrlon=180)\n",
    "fig = plt.figure(figsize = (15,8))\n",
    "m = Basemap(projection='cyl', llcrnrlat=-90,urcrnrlat=90,llcrnrlon=-180,urcrnrlon=180)\n",
    "m.pcolormesh(Lon, Lat, acc.T, vmin=0, vmax=1,\n",
    "             latlon=True, color=color.reshape(-1, 4)) #cmap='inferno') #cmap=\"jet_r\")\n",
    "m.drawcoastlines()\n",
    "m.fillcontinents(color='tan',lake_color='lightblue')\n",
    "m.drawmapboundary(fill_color='lightblue')\n",
    "#m.fillcontinents(color='tan',lake_color='white')\n",
    "#m.drawmapboundary(fill_color='white')\n",
    "#m.shadedrelief(scale=0.5)\n",
    "#m.drawcoastlines(color='black')\n",
    "plt.colorbar(label='Average accuracy')\n",
    "plt.savefig(\"ex.png\")"
   ]
  },
  {
   "cell_type": "code",
   "execution_count": null,
   "id": "61098364",
   "metadata": {
    "hidden": true
   },
   "outputs": [],
   "source": [
    "exp[~np.isnan(exp)].mean()"
   ]
  },
  {
   "cell_type": "markdown",
   "id": "308b58c2",
   "metadata": {
    "hidden": true
   },
   "source": [
    "## Shortest distance to coast"
   ]
  },
  {
   "cell_type": "code",
   "execution_count": null,
   "id": "e218c212",
   "metadata": {
    "hidden": true
   },
   "outputs": [],
   "source": [
    "data = storage.load_lzma(\"utils/data/mobility_data.lzma\")[[\"LONGITUDE\", \"LATITUDE\", \"ID\", \"COMMON_NAME\"]]\n",
    "data.columns = [\"lon\", \"lat\", \"ID\", \"species\"]\n",
    "data['lon'] = data['lon'].astype(np.float64).values\n",
    "data['lat'] = data['lat'].astype(np.float64).values"
   ]
  },
  {
   "cell_type": "code",
   "execution_count": null,
   "id": "5eedeb14",
   "metadata": {
    "hidden": true
   },
   "outputs": [],
   "source": [
    "import shapefile\n",
    "def read_coastline():\n",
    "    #tidypath.storage.save_lzma(X, \"lon-lat-coastdata\", 'utils/data/coastline/')\n",
    "    df = shapefile.Reader('utils/data/coastline/ne_10m_coastline.shp')\n",
    "    sp = df.shapes()\n",
    "    X = np.vstack([np.array(s.points) for s in sp])\n",
    "    return"
   ]
  },
  {
   "cell_type": "code",
   "execution_count": null,
   "id": "a7995030",
   "metadata": {
    "hidden": true
   },
   "outputs": [],
   "source": [
    "from numba import njit\n",
    "@njit\n",
    "def great_circle_distance(p1, p2):\n",
    "    lon_0, lat_0 = p1.T\n",
    "    lon_f, lat_f = p2.T\n",
    "    sigma = 2*np.arcsin(np.sqrt(np.sin(0.5*(lat_f-lat_0))**2 + np.cos(lat_f)*np.cos(lat_0)*np.sin(0.5*(lon_f - lon_0))**2))\n",
    "    return sigma\n",
    "\n",
    "def coast_vptree():\n",
    "    # coast = storage.load_lzma('utils/data/coastline/coast_vptree.lzma')\n",
    "    X = tidypath.storage.save_lzma(X, \"lon-lat-coastdata\", 'utils/data/coastline/')\n",
    "    coast = vptree.VPTree(X[::10] * np.pi/180, great_circle_distance)\n",
    "    return coast"
   ]
  }
 ],
 "metadata": {
  "kernelspec": {
   "display_name": "Python 3 (ipykernel)",
   "language": "python",
   "name": "python3"
  },
  "language_info": {
   "codemirror_mode": {
    "name": "ipython",
    "version": 3
   },
   "file_extension": ".py",
   "mimetype": "text/x-python",
   "name": "python",
   "nbconvert_exporter": "python",
   "pygments_lexer": "ipython3",
   "version": "3.10.11"
  },
  "toc": {
   "base_numbering": 1,
   "nav_menu": {},
   "number_sections": true,
   "sideBar": true,
   "skip_h1_title": false,
   "title_cell": "Table of Contents",
   "title_sidebar": "Contents",
   "toc_cell": false,
   "toc_position": {},
   "toc_section_display": true,
   "toc_window_display": false
  }
 },
 "nbformat": 4,
 "nbformat_minor": 5
}
